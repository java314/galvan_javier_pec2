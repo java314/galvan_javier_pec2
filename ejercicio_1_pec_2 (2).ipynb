{
  "nbformat": 4,
  "nbformat_minor": 0,
  "metadata": {
    "colab": {
      "provenance": []
    },
    "kernelspec": {
      "name": "python3",
      "display_name": "Python 3"
    },
    "language_info": {
      "name": "python"
    }
  },
  "cells": [
    {
      "cell_type": "code",
      "execution_count": 44,
      "metadata": {
        "id": "mT1xkQcRYpUI"
      },
      "outputs": [],
      "source": [
        "import numpy as np\n",
        "import pandas as pd\n"
      ]
    },
    {
      "cell_type": "code",
      "source": [
        "from sklearn.linear_model import Ridge"
      ],
      "metadata": {
        "id": "waTiWxXmYzDB"
      },
      "execution_count": 3,
      "outputs": []
    },
    {
      "cell_type": "code",
      "source": [
        "from sklearn.metrics import mean_squared_error, mean_absolute_error"
      ],
      "metadata": {
        "id": "HTdBGoTMY9E1"
      },
      "execution_count": 4,
      "outputs": []
    },
    {
      "cell_type": "code",
      "source": [
        "from sklearn.model_selection import cross_val_score, cross_val_predict, KFold, GridSearchCV"
      ],
      "metadata": {
        "id": "6YYlwGV2ZSVs"
      },
      "execution_count": 5,
      "outputs": []
    },
    {
      "cell_type": "code",
      "source": [
        "from sklearn.pipeline import Pipeline"
      ],
      "metadata": {
        "id": "3952wY3IZflc"
      },
      "execution_count": 6,
      "outputs": []
    },
    {
      "cell_type": "code",
      "source": [
        "from sklearn.compose import TransformedTargetRegressor"
      ],
      "metadata": {
        "id": "hT4KPusUZ20P"
      },
      "execution_count": 7,
      "outputs": []
    },
    {
      "cell_type": "code",
      "source": [
        "from sklearn import preprocessing"
      ],
      "metadata": {
        "id": "t1xsdHVFbt5y"
      },
      "execution_count": 8,
      "outputs": []
    },
    {
      "cell_type": "code",
      "source": [
        "from sklearn.preprocessing import OneHotEncoder"
      ],
      "metadata": {
        "id": "4b_yEtHJaDqI"
      },
      "execution_count": 9,
      "outputs": []
    },
    {
      "cell_type": "code",
      "source": [
        "import joblib"
      ],
      "metadata": {
        "id": "TP-weAerb384"
      },
      "execution_count": 10,
      "outputs": []
    },
    {
      "cell_type": "code",
      "source": [
        "import matplotlib as plt"
      ],
      "metadata": {
        "id": "Qp8ScmxDb7Nf"
      },
      "execution_count": 11,
      "outputs": []
    },
    {
      "cell_type": "code",
      "source": [
        "import seaborn as sns"
      ],
      "metadata": {
        "id": "QXo_J9UJb_MY"
      },
      "execution_count": 12,
      "outputs": []
    },
    {
      "cell_type": "code",
      "source": [
        "from google.colab import files\n",
        "\n",
        "uploaded = files.upload()\n",
        "\n",
        "# Luego, selecciona el archivo utilizando el botón de carga y luego ejecuta:\n",
        "\n",
        "import pandas as pd\n",
        "\n",
        "df_casas = pd.read_csv(next(iter(uploaded.keys())))\n"
      ],
      "metadata": {
        "colab": {
          "base_uri": "https://localhost:8080/",
          "height": 73
        },
        "id": "JLGBL3IbcDbM",
        "outputId": "0b126a77-30ad-448a-d6dc-4ef2855cea56"
      },
      "execution_count": 13,
      "outputs": [
        {
          "output_type": "display_data",
          "data": {
            "text/plain": [
              "<IPython.core.display.HTML object>"
            ],
            "text/html": [
              "\n",
              "     <input type=\"file\" id=\"files-e0a71f37-1879-4c5b-9a58-1001e907c7d0\" name=\"files[]\" multiple disabled\n",
              "        style=\"border:none\" />\n",
              "     <output id=\"result-e0a71f37-1879-4c5b-9a58-1001e907c7d0\">\n",
              "      Upload widget is only available when the cell has been executed in the\n",
              "      current browser session. Please rerun this cell to enable.\n",
              "      </output>\n",
              "      <script>// Copyright 2017 Google LLC\n",
              "//\n",
              "// Licensed under the Apache License, Version 2.0 (the \"License\");\n",
              "// you may not use this file except in compliance with the License.\n",
              "// You may obtain a copy of the License at\n",
              "//\n",
              "//      http://www.apache.org/licenses/LICENSE-2.0\n",
              "//\n",
              "// Unless required by applicable law or agreed to in writing, software\n",
              "// distributed under the License is distributed on an \"AS IS\" BASIS,\n",
              "// WITHOUT WARRANTIES OR CONDITIONS OF ANY KIND, either express or implied.\n",
              "// See the License for the specific language governing permissions and\n",
              "// limitations under the License.\n",
              "\n",
              "/**\n",
              " * @fileoverview Helpers for google.colab Python module.\n",
              " */\n",
              "(function(scope) {\n",
              "function span(text, styleAttributes = {}) {\n",
              "  const element = document.createElement('span');\n",
              "  element.textContent = text;\n",
              "  for (const key of Object.keys(styleAttributes)) {\n",
              "    element.style[key] = styleAttributes[key];\n",
              "  }\n",
              "  return element;\n",
              "}\n",
              "\n",
              "// Max number of bytes which will be uploaded at a time.\n",
              "const MAX_PAYLOAD_SIZE = 100 * 1024;\n",
              "\n",
              "function _uploadFiles(inputId, outputId) {\n",
              "  const steps = uploadFilesStep(inputId, outputId);\n",
              "  const outputElement = document.getElementById(outputId);\n",
              "  // Cache steps on the outputElement to make it available for the next call\n",
              "  // to uploadFilesContinue from Python.\n",
              "  outputElement.steps = steps;\n",
              "\n",
              "  return _uploadFilesContinue(outputId);\n",
              "}\n",
              "\n",
              "// This is roughly an async generator (not supported in the browser yet),\n",
              "// where there are multiple asynchronous steps and the Python side is going\n",
              "// to poll for completion of each step.\n",
              "// This uses a Promise to block the python side on completion of each step,\n",
              "// then passes the result of the previous step as the input to the next step.\n",
              "function _uploadFilesContinue(outputId) {\n",
              "  const outputElement = document.getElementById(outputId);\n",
              "  const steps = outputElement.steps;\n",
              "\n",
              "  const next = steps.next(outputElement.lastPromiseValue);\n",
              "  return Promise.resolve(next.value.promise).then((value) => {\n",
              "    // Cache the last promise value to make it available to the next\n",
              "    // step of the generator.\n",
              "    outputElement.lastPromiseValue = value;\n",
              "    return next.value.response;\n",
              "  });\n",
              "}\n",
              "\n",
              "/**\n",
              " * Generator function which is called between each async step of the upload\n",
              " * process.\n",
              " * @param {string} inputId Element ID of the input file picker element.\n",
              " * @param {string} outputId Element ID of the output display.\n",
              " * @return {!Iterable<!Object>} Iterable of next steps.\n",
              " */\n",
              "function* uploadFilesStep(inputId, outputId) {\n",
              "  const inputElement = document.getElementById(inputId);\n",
              "  inputElement.disabled = false;\n",
              "\n",
              "  const outputElement = document.getElementById(outputId);\n",
              "  outputElement.innerHTML = '';\n",
              "\n",
              "  const pickedPromise = new Promise((resolve) => {\n",
              "    inputElement.addEventListener('change', (e) => {\n",
              "      resolve(e.target.files);\n",
              "    });\n",
              "  });\n",
              "\n",
              "  const cancel = document.createElement('button');\n",
              "  inputElement.parentElement.appendChild(cancel);\n",
              "  cancel.textContent = 'Cancel upload';\n",
              "  const cancelPromise = new Promise((resolve) => {\n",
              "    cancel.onclick = () => {\n",
              "      resolve(null);\n",
              "    };\n",
              "  });\n",
              "\n",
              "  // Wait for the user to pick the files.\n",
              "  const files = yield {\n",
              "    promise: Promise.race([pickedPromise, cancelPromise]),\n",
              "    response: {\n",
              "      action: 'starting',\n",
              "    }\n",
              "  };\n",
              "\n",
              "  cancel.remove();\n",
              "\n",
              "  // Disable the input element since further picks are not allowed.\n",
              "  inputElement.disabled = true;\n",
              "\n",
              "  if (!files) {\n",
              "    return {\n",
              "      response: {\n",
              "        action: 'complete',\n",
              "      }\n",
              "    };\n",
              "  }\n",
              "\n",
              "  for (const file of files) {\n",
              "    const li = document.createElement('li');\n",
              "    li.append(span(file.name, {fontWeight: 'bold'}));\n",
              "    li.append(span(\n",
              "        `(${file.type || 'n/a'}) - ${file.size} bytes, ` +\n",
              "        `last modified: ${\n",
              "            file.lastModifiedDate ? file.lastModifiedDate.toLocaleDateString() :\n",
              "                                    'n/a'} - `));\n",
              "    const percent = span('0% done');\n",
              "    li.appendChild(percent);\n",
              "\n",
              "    outputElement.appendChild(li);\n",
              "\n",
              "    const fileDataPromise = new Promise((resolve) => {\n",
              "      const reader = new FileReader();\n",
              "      reader.onload = (e) => {\n",
              "        resolve(e.target.result);\n",
              "      };\n",
              "      reader.readAsArrayBuffer(file);\n",
              "    });\n",
              "    // Wait for the data to be ready.\n",
              "    let fileData = yield {\n",
              "      promise: fileDataPromise,\n",
              "      response: {\n",
              "        action: 'continue',\n",
              "      }\n",
              "    };\n",
              "\n",
              "    // Use a chunked sending to avoid message size limits. See b/62115660.\n",
              "    let position = 0;\n",
              "    do {\n",
              "      const length = Math.min(fileData.byteLength - position, MAX_PAYLOAD_SIZE);\n",
              "      const chunk = new Uint8Array(fileData, position, length);\n",
              "      position += length;\n",
              "\n",
              "      const base64 = btoa(String.fromCharCode.apply(null, chunk));\n",
              "      yield {\n",
              "        response: {\n",
              "          action: 'append',\n",
              "          file: file.name,\n",
              "          data: base64,\n",
              "        },\n",
              "      };\n",
              "\n",
              "      let percentDone = fileData.byteLength === 0 ?\n",
              "          100 :\n",
              "          Math.round((position / fileData.byteLength) * 100);\n",
              "      percent.textContent = `${percentDone}% done`;\n",
              "\n",
              "    } while (position < fileData.byteLength);\n",
              "  }\n",
              "\n",
              "  // All done.\n",
              "  yield {\n",
              "    response: {\n",
              "      action: 'complete',\n",
              "    }\n",
              "  };\n",
              "}\n",
              "\n",
              "scope.google = scope.google || {};\n",
              "scope.google.colab = scope.google.colab || {};\n",
              "scope.google.colab._files = {\n",
              "  _uploadFiles,\n",
              "  _uploadFilesContinue,\n",
              "};\n",
              "})(self);\n",
              "</script> "
            ]
          },
          "metadata": {}
        },
        {
          "output_type": "stream",
          "name": "stdout",
          "text": [
            "Saving realestate.csv to realestate.csv\n"
          ]
        }
      ]
    },
    {
      "cell_type": "code",
      "source": [
        "df_casas.head()"
      ],
      "metadata": {
        "colab": {
          "base_uri": "https://localhost:8080/",
          "height": 270
        },
        "id": "198J3DLfgb_o",
        "outputId": "f76e4da5-3fa6-4d91-9839-748506be01bf"
      },
      "execution_count": 14,
      "outputs": [
        {
          "output_type": "execute_result",
          "data": {
            "text/plain": [
              "   No  TransactionDate  HouseAge  DistanceToMRT  NumberConvenienceStores  \\\n",
              "0   1         2012.917      32.0       84.87882                       10   \n",
              "1   2         2012.917      19.5      306.59470                        9   \n",
              "2   3         2013.583      13.3      561.98450                        5   \n",
              "3   4         2013.500      13.3      561.98450                        5   \n",
              "4   5         2012.833       5.0      390.56840                        5   \n",
              "\n",
              "   Latitude  Longitude  PriceOfUnitArea  \n",
              "0  24.98298  121.54024             37.9  \n",
              "1  24.98034  121.53951             42.2  \n",
              "2  24.98746  121.54391             47.3  \n",
              "3  24.98746  121.54391             54.8  \n",
              "4  24.97937  121.54245             43.1  "
            ],
            "text/html": [
              "\n",
              "  <div id=\"df-91c5e817-fb32-4365-b9f6-58c3ca5160fe\">\n",
              "    <div class=\"colab-df-container\">\n",
              "      <div>\n",
              "<style scoped>\n",
              "    .dataframe tbody tr th:only-of-type {\n",
              "        vertical-align: middle;\n",
              "    }\n",
              "\n",
              "    .dataframe tbody tr th {\n",
              "        vertical-align: top;\n",
              "    }\n",
              "\n",
              "    .dataframe thead th {\n",
              "        text-align: right;\n",
              "    }\n",
              "</style>\n",
              "<table border=\"1\" class=\"dataframe\">\n",
              "  <thead>\n",
              "    <tr style=\"text-align: right;\">\n",
              "      <th></th>\n",
              "      <th>No</th>\n",
              "      <th>TransactionDate</th>\n",
              "      <th>HouseAge</th>\n",
              "      <th>DistanceToMRT</th>\n",
              "      <th>NumberConvenienceStores</th>\n",
              "      <th>Latitude</th>\n",
              "      <th>Longitude</th>\n",
              "      <th>PriceOfUnitArea</th>\n",
              "    </tr>\n",
              "  </thead>\n",
              "  <tbody>\n",
              "    <tr>\n",
              "      <th>0</th>\n",
              "      <td>1</td>\n",
              "      <td>2012.917</td>\n",
              "      <td>32.0</td>\n",
              "      <td>84.87882</td>\n",
              "      <td>10</td>\n",
              "      <td>24.98298</td>\n",
              "      <td>121.54024</td>\n",
              "      <td>37.9</td>\n",
              "    </tr>\n",
              "    <tr>\n",
              "      <th>1</th>\n",
              "      <td>2</td>\n",
              "      <td>2012.917</td>\n",
              "      <td>19.5</td>\n",
              "      <td>306.59470</td>\n",
              "      <td>9</td>\n",
              "      <td>24.98034</td>\n",
              "      <td>121.53951</td>\n",
              "      <td>42.2</td>\n",
              "    </tr>\n",
              "    <tr>\n",
              "      <th>2</th>\n",
              "      <td>3</td>\n",
              "      <td>2013.583</td>\n",
              "      <td>13.3</td>\n",
              "      <td>561.98450</td>\n",
              "      <td>5</td>\n",
              "      <td>24.98746</td>\n",
              "      <td>121.54391</td>\n",
              "      <td>47.3</td>\n",
              "    </tr>\n",
              "    <tr>\n",
              "      <th>3</th>\n",
              "      <td>4</td>\n",
              "      <td>2013.500</td>\n",
              "      <td>13.3</td>\n",
              "      <td>561.98450</td>\n",
              "      <td>5</td>\n",
              "      <td>24.98746</td>\n",
              "      <td>121.54391</td>\n",
              "      <td>54.8</td>\n",
              "    </tr>\n",
              "    <tr>\n",
              "      <th>4</th>\n",
              "      <td>5</td>\n",
              "      <td>2012.833</td>\n",
              "      <td>5.0</td>\n",
              "      <td>390.56840</td>\n",
              "      <td>5</td>\n",
              "      <td>24.97937</td>\n",
              "      <td>121.54245</td>\n",
              "      <td>43.1</td>\n",
              "    </tr>\n",
              "  </tbody>\n",
              "</table>\n",
              "</div>\n",
              "      <button class=\"colab-df-convert\" onclick=\"convertToInteractive('df-91c5e817-fb32-4365-b9f6-58c3ca5160fe')\"\n",
              "              title=\"Convert this dataframe to an interactive table.\"\n",
              "              style=\"display:none;\">\n",
              "        \n",
              "  <svg xmlns=\"http://www.w3.org/2000/svg\" height=\"24px\"viewBox=\"0 0 24 24\"\n",
              "       width=\"24px\">\n",
              "    <path d=\"M0 0h24v24H0V0z\" fill=\"none\"/>\n",
              "    <path d=\"M18.56 5.44l.94 2.06.94-2.06 2.06-.94-2.06-.94-.94-2.06-.94 2.06-2.06.94zm-11 1L8.5 8.5l.94-2.06 2.06-.94-2.06-.94L8.5 2.5l-.94 2.06-2.06.94zm10 10l.94 2.06.94-2.06 2.06-.94-2.06-.94-.94-2.06-.94 2.06-2.06.94z\"/><path d=\"M17.41 7.96l-1.37-1.37c-.4-.4-.92-.59-1.43-.59-.52 0-1.04.2-1.43.59L10.3 9.45l-7.72 7.72c-.78.78-.78 2.05 0 2.83L4 21.41c.39.39.9.59 1.41.59.51 0 1.02-.2 1.41-.59l7.78-7.78 2.81-2.81c.8-.78.8-2.07 0-2.86zM5.41 20L4 18.59l7.72-7.72 1.47 1.35L5.41 20z\"/>\n",
              "  </svg>\n",
              "      </button>\n",
              "      \n",
              "  <style>\n",
              "    .colab-df-container {\n",
              "      display:flex;\n",
              "      flex-wrap:wrap;\n",
              "      gap: 12px;\n",
              "    }\n",
              "\n",
              "    .colab-df-convert {\n",
              "      background-color: #E8F0FE;\n",
              "      border: none;\n",
              "      border-radius: 50%;\n",
              "      cursor: pointer;\n",
              "      display: none;\n",
              "      fill: #1967D2;\n",
              "      height: 32px;\n",
              "      padding: 0 0 0 0;\n",
              "      width: 32px;\n",
              "    }\n",
              "\n",
              "    .colab-df-convert:hover {\n",
              "      background-color: #E2EBFA;\n",
              "      box-shadow: 0px 1px 2px rgba(60, 64, 67, 0.3), 0px 1px 3px 1px rgba(60, 64, 67, 0.15);\n",
              "      fill: #174EA6;\n",
              "    }\n",
              "\n",
              "    [theme=dark] .colab-df-convert {\n",
              "      background-color: #3B4455;\n",
              "      fill: #D2E3FC;\n",
              "    }\n",
              "\n",
              "    [theme=dark] .colab-df-convert:hover {\n",
              "      background-color: #434B5C;\n",
              "      box-shadow: 0px 1px 3px 1px rgba(0, 0, 0, 0.15);\n",
              "      filter: drop-shadow(0px 1px 2px rgba(0, 0, 0, 0.3));\n",
              "      fill: #FFFFFF;\n",
              "    }\n",
              "  </style>\n",
              "\n",
              "      <script>\n",
              "        const buttonEl =\n",
              "          document.querySelector('#df-91c5e817-fb32-4365-b9f6-58c3ca5160fe button.colab-df-convert');\n",
              "        buttonEl.style.display =\n",
              "          google.colab.kernel.accessAllowed ? 'block' : 'none';\n",
              "\n",
              "        async function convertToInteractive(key) {\n",
              "          const element = document.querySelector('#df-91c5e817-fb32-4365-b9f6-58c3ca5160fe');\n",
              "          const dataTable =\n",
              "            await google.colab.kernel.invokeFunction('convertToInteractive',\n",
              "                                                     [key], {});\n",
              "          if (!dataTable) return;\n",
              "\n",
              "          const docLinkHtml = 'Like what you see? Visit the ' +\n",
              "            '<a target=\"_blank\" href=https://colab.research.google.com/notebooks/data_table.ipynb>data table notebook</a>'\n",
              "            + ' to learn more about interactive tables.';\n",
              "          element.innerHTML = '';\n",
              "          dataTable['output_type'] = 'display_data';\n",
              "          await google.colab.output.renderOutput(dataTable, element);\n",
              "          const docLink = document.createElement('div');\n",
              "          docLink.innerHTML = docLinkHtml;\n",
              "          element.appendChild(docLink);\n",
              "        }\n",
              "      </script>\n",
              "    </div>\n",
              "  </div>\n",
              "  "
            ]
          },
          "metadata": {},
          "execution_count": 14
        }
      ]
    },
    {
      "cell_type": "code",
      "source": [
        "sns.pairplot(df_casas[[\"PriceOfUnitArea\"]])"
      ],
      "metadata": {
        "colab": {
          "base_uri": "https://localhost:8080/",
          "height": 285
        },
        "id": "t84hGIZFhL9v",
        "outputId": "19b28d8e-0a3d-48a4-91d8-9862bade7278"
      },
      "execution_count": 15,
      "outputs": [
        {
          "output_type": "execute_result",
          "data": {
            "text/plain": [
              "<seaborn.axisgrid.PairGrid at 0x7f94c131d060>"
            ]
          },
          "metadata": {},
          "execution_count": 15
        },
        {
          "output_type": "display_data",
          "data": {
            "text/plain": [
              "<Figure size 250x250 with 2 Axes>"
            ],
            "image/png": "[encoded data removed]"
          },
          "metadata": {}
        }
      ]
    },
    {
      "cell_type": "code",
      "source": [
        "sns.pairplot(np.log10(df_casas[[\"PriceOfUnitArea\"]]))"
      ],
      "metadata": {
        "colab": {
          "base_uri": "https://localhost:8080/",
          "height": 285
        },
        "id": "TWmsrMivhyQR",
        "outputId": "9ea16af0-a041-46bf-926c-42e70e3d7c25"
      },
      "execution_count": 16,
      "outputs": [
        {
          "output_type": "execute_result",
          "data": {
            "text/plain": [
              "<seaborn.axisgrid.PairGrid at 0x7f94c12789a0>"
            ]
          },
          "metadata": {},
          "execution_count": 16
        },
        {
          "output_type": "display_data",
          "data": {
            "text/plain": [
              "<Figure size 250x250 with 2 Axes>"
            ],
            "image/png": "[encoded data removed]"
          },
          "metadata": {}
        }
      ]
    },
    {
      "cell_type": "code",
      "source": [
        "df_casas.info()"
      ],
      "metadata": {
        "colab": {
          "base_uri": "https://localhost:8080/"
        },
        "id": "l3nQxaLhhhfI",
        "outputId": "cddbbec7-0683-4f8a-fc0e-ac2fd3b754fb"
      },
      "execution_count": 17,
      "outputs": [
        {
          "output_type": "stream",
          "name": "stdout",
          "text": [
            "<class 'pandas.core.frame.DataFrame'>\n",
            "RangeIndex: 414 entries, 0 to 413\n",
            "Data columns (total 8 columns):\n",
            " #   Column                   Non-Null Count  Dtype  \n",
            "---  ------                   --------------  -----  \n",
            " 0   No                       414 non-null    int64  \n",
            " 1   TransactionDate          414 non-null    float64\n",
            " 2   HouseAge                 414 non-null    float64\n",
            " 3   DistanceToMRT            414 non-null    float64\n",
            " 4   NumberConvenienceStores  414 non-null    int64  \n",
            " 5   Latitude                 414 non-null    float64\n",
            " 6   Longitude                414 non-null    float64\n",
            " 7   PriceOfUnitArea          414 non-null    float64\n",
            "dtypes: float64(6), int64(2)\n",
            "memory usage: 26.0 KB\n"
          ]
        }
      ]
    },
    {
      "cell_type": "code",
      "source": [
        "# Convertir la columna \"TransactionDate\" a tipo de dato fecha\n",
        "df_casas['TransactionDate'] = pd.to_datetime(df_casas['TransactionDate'])\n",
        "\n",
        "# Extraer características numéricas de la fecha\n",
        "df_casas['Year'] = df_casas['TransactionDate'].dt.year\n",
        "df_casas['Month'] = df_casas['TransactionDate'].dt.month\n",
        "df_casas['DayOfWeek'] = df_casas['TransactionDate'].dt.dayofweek\n",
        "\n",
        "# Eliminar la columna original \"TransactionDate\" si ya no es necesaria\n",
        "df_casas = df_casas.drop('TransactionDate', axis=1)"
      ],
      "metadata": {
        "id": "s3bprO2hnKpE"
      },
      "execution_count": 18,
      "outputs": []
    },
    {
      "cell_type": "code",
      "source": [
        "# defino los limites\n",
        "bins = [0, 500, 1454, float('inf')]\n",
        "labels = ['Cercano', 'Medio', 'Lejano']\n",
        "\n",
        "# convierto a categorica\n",
        "df_casas['DistanceToMRT_Category'] = pd.cut(df_casas['DistanceToMRT'], bins=bins, labels=labels)\n",
        "\n",
        "print(df_casas)"
      ],
      "metadata": {
        "colab": {
          "base_uri": "https://localhost:8080/"
        },
        "id": "fEjPbxA_zdS_",
        "outputId": "1be858b0-001f-4e86-d7ce-51115f1ff6bf"
      },
      "execution_count": 19,
      "outputs": [
        {
          "output_type": "stream",
          "name": "stdout",
          "text": [
            "      No  HouseAge  DistanceToMRT  NumberConvenienceStores  Latitude  \\\n",
            "0      1      32.0       84.87882                       10  24.98298   \n",
            "1      2      19.5      306.59470                        9  24.98034   \n",
            "2      3      13.3      561.98450                        5  24.98746   \n",
            "3      4      13.3      561.98450                        5  24.98746   \n",
            "4      5       5.0      390.56840                        5  24.97937   \n",
            "..   ...       ...            ...                      ...       ...   \n",
            "409  410      13.7     4082.01500                        0  24.94155   \n",
            "410  411       5.6       90.45606                        9  24.97433   \n",
            "411  412      18.8      390.96960                        7  24.97923   \n",
            "412  413       8.1      104.81010                        5  24.96674   \n",
            "413  414       6.5       90.45606                        9  24.97433   \n",
            "\n",
            "     Longitude  PriceOfUnitArea  Year  Month  DayOfWeek DistanceToMRT_Category  \n",
            "0    121.54024             37.9  1970      1          3                Cercano  \n",
            "1    121.53951             42.2  1970      1          3                Cercano  \n",
            "2    121.54391             47.3  1970      1          3                  Medio  \n",
            "3    121.54391             54.8  1970      1          3                  Medio  \n",
            "4    121.54245             43.1  1970      1          3                Cercano  \n",
            "..         ...              ...   ...    ...        ...                    ...  \n",
            "409  121.50381             15.4  1970      1          3                 Lejano  \n",
            "410  121.54310             50.0  1970      1          3                Cercano  \n",
            "411  121.53986             40.6  1970      1          3                Cercano  \n",
            "412  121.54067             52.5  1970      1          3                Cercano  \n",
            "413  121.54310             63.9  1970      1          3                Cercano  \n",
            "\n",
            "[414 rows x 11 columns]\n"
          ]
        }
      ]
    },
    {
      "cell_type": "code",
      "source": [
        "x,y = df_casas.drop([\"PriceOfUnitArea\", \"No\"], axis =1), df_casas[\"PriceOfUnitArea\"]"
      ],
      "metadata": {
        "id": "nPqkTtaOiA59"
      },
      "execution_count": 20,
      "outputs": []
    },
    {
      "cell_type": "code",
      "source": [],
      "metadata": {
        "id": "0fUIOyktjc-y"
      },
      "execution_count": 20,
      "outputs": []
    },
    {
      "cell_type": "code",
      "source": [],
      "metadata": {
        "id": "-BA-wDydj7Kr"
      },
      "execution_count": 20,
      "outputs": []
    },
    {
      "cell_type": "code",
      "source": [
        "df_casas.head()"
      ],
      "metadata": {
        "colab": {
          "base_uri": "https://localhost:8080/",
          "height": 270
        },
        "outputId": "0efd5376-0bce-4e08-cbe0-d4ca256dd214",
        "id": "Ia3bcYyUmVxS"
      },
      "execution_count": 21,
      "outputs": [
        {
          "output_type": "execute_result",
          "data": {
            "text/plain": [
              "   No  HouseAge  DistanceToMRT  NumberConvenienceStores  Latitude  Longitude  \\\n",
              "0   1      32.0       84.87882                       10  24.98298  121.54024   \n",
              "1   2      19.5      306.59470                        9  24.98034  121.53951   \n",
              "2   3      13.3      561.98450                        5  24.98746  121.54391   \n",
              "3   4      13.3      561.98450                        5  24.98746  121.54391   \n",
              "4   5       5.0      390.56840                        5  24.97937  121.54245   \n",
              "\n",
              "   PriceOfUnitArea  Year  Month  DayOfWeek DistanceToMRT_Category  \n",
              "0             37.9  1970      1          3                Cercano  \n",
              "1             42.2  1970      1          3                Cercano  \n",
              "2             47.3  1970      1          3                  Medio  \n",
              "3             54.8  1970      1          3                  Medio  \n",
              "4             43.1  1970      1          3                Cercano  "
            ],
            "text/html": [
              "\n",
              "  <div id=\"df-27ab2449-47c8-4c9b-9c72-9f64fb3feb2c\">\n",
              "    <div class=\"colab-df-container\">\n",
              "      <div>\n",
              "<style scoped>\n",
              "    .dataframe tbody tr th:only-of-type {\n",
              "        vertical-align: middle;\n",
              "    }\n",
              "\n",
              "    .dataframe tbody tr th {\n",
              "        vertical-align: top;\n",
              "    }\n",
              "\n",
              "    .dataframe thead th {\n",
              "        text-align: right;\n",
              "    }\n",
              "</style>\n",
              "<table border=\"1\" class=\"dataframe\">\n",
              "  <thead>\n",
              "    <tr style=\"text-align: right;\">\n",
              "      <th></th>\n",
              "      <th>No</th>\n",
              "      <th>HouseAge</th>\n",
              "      <th>DistanceToMRT</th>\n",
              "      <th>NumberConvenienceStores</th>\n",
              "      <th>Latitude</th>\n",
              "      <th>Longitude</th>\n",
              "      <th>PriceOfUnitArea</th>\n",
              "      <th>Year</th>\n",
              "      <th>Month</th>\n",
              "      <th>DayOfWeek</th>\n",
              "      <th>DistanceToMRT_Category</th>\n",
              "    </tr>\n",
              "  </thead>\n",
              "  <tbody>\n",
              "    <tr>\n",
              "      <th>0</th>\n",
              "      <td>1</td>\n",
              "      <td>32.0</td>\n",
              "      <td>84.87882</td>\n",
              "      <td>10</td>\n",
              "      <td>24.98298</td>\n",
              "      <td>121.54024</td>\n",
              "      <td>37.9</td>\n",
              "      <td>1970</td>\n",
              "      <td>1</td>\n",
              "      <td>3</td>\n",
              "      <td>Cercano</td>\n",
              "    </tr>\n",
              "    <tr>\n",
              "      <th>1</th>\n",
              "      <td>2</td>\n",
              "      <td>19.5</td>\n",
              "      <td>306.59470</td>\n",
              "      <td>9</td>\n",
              "      <td>24.98034</td>\n",
              "      <td>121.53951</td>\n",
              "      <td>42.2</td>\n",
              "      <td>1970</td>\n",
              "      <td>1</td>\n",
              "      <td>3</td>\n",
              "      <td>Cercano</td>\n",
              "    </tr>\n",
              "    <tr>\n",
              "      <th>2</th>\n",
              "      <td>3</td>\n",
              "      <td>13.3</td>\n",
              "      <td>561.98450</td>\n",
              "      <td>5</td>\n",
              "      <td>24.98746</td>\n",
              "      <td>121.54391</td>\n",
              "      <td>47.3</td>\n",
              "      <td>1970</td>\n",
              "      <td>1</td>\n",
              "      <td>3</td>\n",
              "      <td>Medio</td>\n",
              "    </tr>\n",
              "    <tr>\n",
              "      <th>3</th>\n",
              "      <td>4</td>\n",
              "      <td>13.3</td>\n",
              "      <td>561.98450</td>\n",
              "      <td>5</td>\n",
              "      <td>24.98746</td>\n",
              "      <td>121.54391</td>\n",
              "      <td>54.8</td>\n",
              "      <td>1970</td>\n",
              "      <td>1</td>\n",
              "      <td>3</td>\n",
              "      <td>Medio</td>\n",
              "    </tr>\n",
              "    <tr>\n",
              "      <th>4</th>\n",
              "      <td>5</td>\n",
              "      <td>5.0</td>\n",
              "      <td>390.56840</td>\n",
              "      <td>5</td>\n",
              "      <td>24.97937</td>\n",
              "      <td>121.54245</td>\n",
              "      <td>43.1</td>\n",
              "      <td>1970</td>\n",
              "      <td>1</td>\n",
              "      <td>3</td>\n",
              "      <td>Cercano</td>\n",
              "    </tr>\n",
              "  </tbody>\n",
              "</table>\n",
              "</div>\n",
              "      <button class=\"colab-df-convert\" onclick=\"convertToInteractive('df-27ab2449-47c8-4c9b-9c72-9f64fb3feb2c')\"\n",
              "              title=\"Convert this dataframe to an interactive table.\"\n",
              "              style=\"display:none;\">\n",
              "        \n",
              "  <svg xmlns=\"http://www.w3.org/2000/svg\" height=\"24px\"viewBox=\"0 0 24 24\"\n",
              "       width=\"24px\">\n",
              "    <path d=\"M0 0h24v24H0V0z\" fill=\"none\"/>\n",
              "    <path d=\"M18.56 5.44l.94 2.06.94-2.06 2.06-.94-2.06-.94-.94-2.06-.94 2.06-2.06.94zm-11 1L8.5 8.5l.94-2.06 2.06-.94-2.06-.94L8.5 2.5l-.94 2.06-2.06.94zm10 10l.94 2.06.94-2.06 2.06-.94-2.06-.94-.94-2.06-.94 2.06-2.06.94z\"/><path d=\"M17.41 7.96l-1.37-1.37c-.4-.4-.92-.59-1.43-.59-.52 0-1.04.2-1.43.59L10.3 9.45l-7.72 7.72c-.78.78-.78 2.05 0 2.83L4 21.41c.39.39.9.59 1.41.59.51 0 1.02-.2 1.41-.59l7.78-7.78 2.81-2.81c.8-.78.8-2.07 0-2.86zM5.41 20L4 18.59l7.72-7.72 1.47 1.35L5.41 20z\"/>\n",
              "  </svg>\n",
              "      </button>\n",
              "      \n",
              "  <style>\n",
              "    .colab-df-container {\n",
              "      display:flex;\n",
              "      flex-wrap:wrap;\n",
              "      gap: 12px;\n",
              "    }\n",
              "\n",
              "    .colab-df-convert {\n",
              "      background-color: #E8F0FE;\n",
              "      border: none;\n",
              "      border-radius: 50%;\n",
              "      cursor: pointer;\n",
              "      display: none;\n",
              "      fill: #1967D2;\n",
              "      height: 32px;\n",
              "      padding: 0 0 0 0;\n",
              "      width: 32px;\n",
              "    }\n",
              "\n",
              "    .colab-df-convert:hover {\n",
              "      background-color: #E2EBFA;\n",
              "      box-shadow: 0px 1px 2px rgba(60, 64, 67, 0.3), 0px 1px 3px 1px rgba(60, 64, 67, 0.15);\n",
              "      fill: #174EA6;\n",
              "    }\n",
              "\n",
              "    [theme=dark] .colab-df-convert {\n",
              "      background-color: #3B4455;\n",
              "      fill: #D2E3FC;\n",
              "    }\n",
              "\n",
              "    [theme=dark] .colab-df-convert:hover {\n",
              "      background-color: #434B5C;\n",
              "      box-shadow: 0px 1px 3px 1px rgba(0, 0, 0, 0.15);\n",
              "      filter: drop-shadow(0px 1px 2px rgba(0, 0, 0, 0.3));\n",
              "      fill: #FFFFFF;\n",
              "    }\n",
              "  </style>\n",
              "\n",
              "      <script>\n",
              "        const buttonEl =\n",
              "          document.querySelector('#df-27ab2449-47c8-4c9b-9c72-9f64fb3feb2c button.colab-df-convert');\n",
              "        buttonEl.style.display =\n",
              "          google.colab.kernel.accessAllowed ? 'block' : 'none';\n",
              "\n",
              "        async function convertToInteractive(key) {\n",
              "          const element = document.querySelector('#df-27ab2449-47c8-4c9b-9c72-9f64fb3feb2c');\n",
              "          const dataTable =\n",
              "            await google.colab.kernel.invokeFunction('convertToInteractive',\n",
              "                                                     [key], {});\n",
              "          if (!dataTable) return;\n",
              "\n",
              "          const docLinkHtml = 'Like what you see? Visit the ' +\n",
              "            '<a target=\"_blank\" href=https://colab.research.google.com/notebooks/data_table.ipynb>data table notebook</a>'\n",
              "            + ' to learn more about interactive tables.';\n",
              "          element.innerHTML = '';\n",
              "          dataTable['output_type'] = 'display_data';\n",
              "          await google.colab.output.renderOutput(dataTable, element);\n",
              "          const docLink = document.createElement('div');\n",
              "          docLink.innerHTML = docLinkHtml;\n",
              "          element.appendChild(docLink);\n",
              "        }\n",
              "      </script>\n",
              "    </div>\n",
              "  </div>\n",
              "  "
            ]
          },
          "metadata": {},
          "execution_count": 21
        }
      ]
    },
    {
      "cell_type": "code",
      "source": [],
      "metadata": {
        "id": "mV1Jm3oSlTF1"
      },
      "execution_count": 21,
      "outputs": []
    },
    {
      "cell_type": "code",
      "source": [
        "summary_stats = df_casas['DistanceToMRT'].describe()\n",
        "print(summary_stats)"
      ],
      "metadata": {
        "colab": {
          "base_uri": "https://localhost:8080/"
        },
        "id": "YfAeC4-ynjth",
        "outputId": "eb1d3bf4-077d-4c6e-c3b5-559a2a84f7c4"
      },
      "execution_count": 22,
      "outputs": [
        {
          "output_type": "stream",
          "name": "stdout",
          "text": [
            "count     414.000000\n",
            "mean     1083.885689\n",
            "std      1262.109595\n",
            "min        23.382840\n",
            "25%       289.324800\n",
            "50%       492.231300\n",
            "75%      1454.279000\n",
            "max      6488.021000\n",
            "Name: DistanceToMRT, dtype: float64\n"
          ]
        }
      ]
    },
    {
      "cell_type": "code",
      "source": [],
      "metadata": {
        "id": "tYKCmTF2o-aJ"
      },
      "execution_count": 22,
      "outputs": []
    },
    {
      "cell_type": "code",
      "source": [
        "df_casas.info()"
      ],
      "metadata": {
        "colab": {
          "base_uri": "https://localhost:8080/"
        },
        "id": "XcbV-HKkyUwW",
        "outputId": "3be562b4-1cf1-4d2a-c3db-12f22f92375e"
      },
      "execution_count": 23,
      "outputs": [
        {
          "output_type": "stream",
          "name": "stdout",
          "text": [
            "<class 'pandas.core.frame.DataFrame'>\n",
            "RangeIndex: 414 entries, 0 to 413\n",
            "Data columns (total 11 columns):\n",
            " #   Column                   Non-Null Count  Dtype   \n",
            "---  ------                   --------------  -----   \n",
            " 0   No                       414 non-null    int64   \n",
            " 1   HouseAge                 414 non-null    float64 \n",
            " 2   DistanceToMRT            414 non-null    float64 \n",
            " 3   NumberConvenienceStores  414 non-null    int64   \n",
            " 4   Latitude                 414 non-null    float64 \n",
            " 5   Longitude                414 non-null    float64 \n",
            " 6   PriceOfUnitArea          414 non-null    float64 \n",
            " 7   Year                     414 non-null    int64   \n",
            " 8   Month                    414 non-null    int64   \n",
            " 9   DayOfWeek                414 non-null    int64   \n",
            " 10  DistanceToMRT_Category   414 non-null    category\n",
            "dtypes: category(1), float64(5), int64(5)\n",
            "memory usage: 33.0 KB\n"
          ]
        }
      ]
    },
    {
      "cell_type": "code",
      "source": [
        "from sklearn.model_selection import train_test_split\n",
        "X_train, X_test, y_train, y_test = train_test_split(x, y, random_state=42)"
      ],
      "metadata": {
        "id": "ej2Kyqnkv5Ke"
      },
      "execution_count": 24,
      "outputs": []
    },
    {
      "cell_type": "code",
      "source": [
        "from sklearn.compose import make_column_transformer\n",
        "from sklearn.preprocessing import OneHotEncoder\n",
        "\n",
        "categorical_columns = [\"DistanceToMRT_Category\"]\n",
        "numerical_columns = [\"HouseAge\", \"NumberConvenienceStores\", \"Latitude\", \"Longitude\", \"Year\"]\n",
        "\n",
        "preprocessor = make_column_transformer((OneHotEncoder(drop=\"if_binary\"), categorical_columns),\n",
        "                                       remainder=\"passthrough\",\n",
        "                                       verbose_feature_names_out=False,)\n",
        "\n",
        "\n",
        "\n"
      ],
      "metadata": {
        "id": "7FrFVZJTxCE6"
      },
      "execution_count": 25,
      "outputs": []
    },
    {
      "cell_type": "code",
      "source": [
        "from sklearn.compose import TransformedTargetRegressor\n",
        "from sklearn.pipeline import make_pipeline\n",
        "from sklearn.preprocessing import StandardScaler\n",
        "from sklearn.linear_model import Ridge\n",
        "import numpy as np\n",
        "import scipy as sp\n",
        "\n",
        "\n",
        "model = make_pipeline(\n",
        "    preprocessor,\n",
        "    TransformedTargetRegressor(\n",
        "        regressor=Ridge(alpha=1e-10),\n",
        "        func=np.log10,\n",
        "        inverse_func=sp.special.exp10\n",
        "    ),\n",
        ")"
      ],
      "metadata": {
        "id": "m18ibMzltDkn"
      },
      "execution_count": 28,
      "outputs": []
    },
    {
      "cell_type": "code",
      "source": [],
      "metadata": {
        "id": "ss4sDA9bv0vT"
      },
      "execution_count": 28,
      "outputs": []
    },
    {
      "cell_type": "code",
      "source": [
        "X_train"
      ],
      "metadata": {
        "colab": {
          "base_uri": "https://localhost:8080/",
          "height": 487
        },
        "id": "okTaDkH9vaJb",
        "outputId": "7d19547a-4adb-4cce-8a94-603a898c4876"
      },
      "execution_count": 29,
      "outputs": [
        {
          "output_type": "execute_result",
          "data": {
            "text/plain": [
              "     HouseAge  DistanceToMRT  NumberConvenienceStores  Latitude  Longitude  \\\n",
              "326       4.1       56.47425                        7  24.95744  121.53711   \n",
              "410       5.6       90.45606                        9  24.97433  121.54310   \n",
              "391       6.2     1939.74900                        1  24.95155  121.55387   \n",
              "352      18.4     2674.96100                        3  24.96143  121.50827   \n",
              "132      26.6      482.75810                        5  24.97433  121.53863   \n",
              "..        ...            ...                      ...       ...        ...   \n",
              "71       35.5      640.73910                        3  24.97563  121.53715   \n",
              "106      17.2      189.51810                        8  24.97707  121.54308   \n",
              "270      10.8      252.58220                        1  24.97460  121.53046   \n",
              "348       4.6      259.66070                        6  24.97585  121.54516   \n",
              "102       1.1      193.58450                        6  24.96571  121.54089   \n",
              "\n",
              "     Year  Month  DayOfWeek DistanceToMRT_Category  \n",
              "326  1970      1          3                Cercano  \n",
              "410  1970      1          3                Cercano  \n",
              "391  1970      1          3                 Lejano  \n",
              "352  1970      1          3                 Lejano  \n",
              "132  1970      1          3                Cercano  \n",
              "..    ...    ...        ...                    ...  \n",
              "71   1970      1          3                  Medio  \n",
              "106  1970      1          3                Cercano  \n",
              "270  1970      1          3                Cercano  \n",
              "348  1970      1          3                Cercano  \n",
              "102  1970      1          3                Cercano  \n",
              "\n",
              "[310 rows x 9 columns]"
            ],
            "text/html": [
              "\n",
              "  <div id=\"df-2f73d20f-1dc5-40bb-8c50-0c6d70b79d05\">\n",
              "    <div class=\"colab-df-container\">\n",
              "      <div>\n",
              "<style scoped>\n",
              "    .dataframe tbody tr th:only-of-type {\n",
              "        vertical-align: middle;\n",
              "    }\n",
              "\n",
              "    .dataframe tbody tr th {\n",
              "        vertical-align: top;\n",
              "    }\n",
              "\n",
              "    .dataframe thead th {\n",
              "        text-align: right;\n",
              "    }\n",
              "</style>\n",
              "<table border=\"1\" class=\"dataframe\">\n",
              "  <thead>\n",
              "    <tr style=\"text-align: right;\">\n",
              "      <th></th>\n",
              "      <th>HouseAge</th>\n",
              "      <th>DistanceToMRT</th>\n",
              "      <th>NumberConvenienceStores</th>\n",
              "      <th>Latitude</th>\n",
              "      <th>Longitude</th>\n",
              "      <th>Year</th>\n",
              "      <th>Month</th>\n",
              "      <th>DayOfWeek</th>\n",
              "      <th>DistanceToMRT_Category</th>\n",
              "    </tr>\n",
              "  </thead>\n",
              "  <tbody>\n",
              "    <tr>\n",
              "      <th>326</th>\n",
              "      <td>4.1</td>\n",
              "      <td>56.47425</td>\n",
              "      <td>7</td>\n",
              "      <td>24.95744</td>\n",
              "      <td>121.53711</td>\n",
              "      <td>1970</td>\n",
              "      <td>1</td>\n",
              "      <td>3</td>\n",
              "      <td>Cercano</td>\n",
              "    </tr>\n",
              "    <tr>\n",
              "      <th>410</th>\n",
              "      <td>5.6</td>\n",
              "      <td>90.45606</td>\n",
              "      <td>9</td>\n",
              "      <td>24.97433</td>\n",
              "      <td>121.54310</td>\n",
              "      <td>1970</td>\n",
              "      <td>1</td>\n",
              "      <td>3</td>\n",
              "      <td>Cercano</td>\n",
              "    </tr>\n",
              "    <tr>\n",
              "      <th>391</th>\n",
              "      <td>6.2</td>\n",
              "      <td>1939.74900</td>\n",
              "      <td>1</td>\n",
              "      <td>24.95155</td>\n",
              "      <td>121.55387</td>\n",
              "      <td>1970</td>\n",
              "      <td>1</td>\n",
              "      <td>3</td>\n",
              "      <td>Lejano</td>\n",
              "    </tr>\n",
              "    <tr>\n",
              "      <th>352</th>\n",
              "      <td>18.4</td>\n",
              "      <td>2674.96100</td>\n",
              "      <td>3</td>\n",
              "      <td>24.96143</td>\n",
              "      <td>121.50827</td>\n",
              "      <td>1970</td>\n",
              "      <td>1</td>\n",
              "      <td>3</td>\n",
              "      <td>Lejano</td>\n",
              "    </tr>\n",
              "    <tr>\n",
              "      <th>132</th>\n",
              "      <td>26.6</td>\n",
              "      <td>482.75810</td>\n",
              "      <td>5</td>\n",
              "      <td>24.97433</td>\n",
              "      <td>121.53863</td>\n",
              "      <td>1970</td>\n",
              "      <td>1</td>\n",
              "      <td>3</td>\n",
              "      <td>Cercano</td>\n",
              "    </tr>\n",
              "    <tr>\n",
              "      <th>...</th>\n",
              "      <td>...</td>\n",
              "      <td>...</td>\n",
              "      <td>...</td>\n",
              "      <td>...</td>\n",
              "      <td>...</td>\n",
              "      <td>...</td>\n",
              "      <td>...</td>\n",
              "      <td>...</td>\n",
              "      <td>...</td>\n",
              "    </tr>\n",
              "    <tr>\n",
              "      <th>71</th>\n",
              "      <td>35.5</td>\n",
              "      <td>640.73910</td>\n",
              "      <td>3</td>\n",
              "      <td>24.97563</td>\n",
              "      <td>121.53715</td>\n",
              "      <td>1970</td>\n",
              "      <td>1</td>\n",
              "      <td>3</td>\n",
              "      <td>Medio</td>\n",
              "    </tr>\n",
              "    <tr>\n",
              "      <th>106</th>\n",
              "      <td>17.2</td>\n",
              "      <td>189.51810</td>\n",
              "      <td>8</td>\n",
              "      <td>24.97707</td>\n",
              "      <td>121.54308</td>\n",
              "      <td>1970</td>\n",
              "      <td>1</td>\n",
              "      <td>3</td>\n",
              "      <td>Cercano</td>\n",
              "    </tr>\n",
              "    <tr>\n",
              "      <th>270</th>\n",
              "      <td>10.8</td>\n",
              "      <td>252.58220</td>\n",
              "      <td>1</td>\n",
              "      <td>24.97460</td>\n",
              "      <td>121.53046</td>\n",
              "      <td>1970</td>\n",
              "      <td>1</td>\n",
              "      <td>3</td>\n",
              "      <td>Cercano</td>\n",
              "    </tr>\n",
              "    <tr>\n",
              "      <th>348</th>\n",
              "      <td>4.6</td>\n",
              "      <td>259.66070</td>\n",
              "      <td>6</td>\n",
              "      <td>24.97585</td>\n",
              "      <td>121.54516</td>\n",
              "      <td>1970</td>\n",
              "      <td>1</td>\n",
              "      <td>3</td>\n",
              "      <td>Cercano</td>\n",
              "    </tr>\n",
              "    <tr>\n",
              "      <th>102</th>\n",
              "      <td>1.1</td>\n",
              "      <td>193.58450</td>\n",
              "      <td>6</td>\n",
              "      <td>24.96571</td>\n",
              "      <td>121.54089</td>\n",
              "      <td>1970</td>\n",
              "      <td>1</td>\n",
              "      <td>3</td>\n",
              "      <td>Cercano</td>\n",
              "    </tr>\n",
              "  </tbody>\n",
              "</table>\n",
              "<p>310 rows × 9 columns</p>\n",
              "</div>\n",
              "      <button class=\"colab-df-convert\" onclick=\"convertToInteractive('df-2f73d20f-1dc5-40bb-8c50-0c6d70b79d05')\"\n",
              "              title=\"Convert this dataframe to an interactive table.\"\n",
              "              style=\"display:none;\">\n",
              "        \n",
              "  <svg xmlns=\"http://www.w3.org/2000/svg\" height=\"24px\"viewBox=\"0 0 24 24\"\n",
              "       width=\"24px\">\n",
              "    <path d=\"M0 0h24v24H0V0z\" fill=\"none\"/>\n",
              "    <path d=\"M18.56 5.44l.94 2.06.94-2.06 2.06-.94-2.06-.94-.94-2.06-.94 2.06-2.06.94zm-11 1L8.5 8.5l.94-2.06 2.06-.94-2.06-.94L8.5 2.5l-.94 2.06-2.06.94zm10 10l.94 2.06.94-2.06 2.06-.94-2.06-.94-.94-2.06-.94 2.06-2.06.94z\"/><path d=\"M17.41 7.96l-1.37-1.37c-.4-.4-.92-.59-1.43-.59-.52 0-1.04.2-1.43.59L10.3 9.45l-7.72 7.72c-.78.78-.78 2.05 0 2.83L4 21.41c.39.39.9.59 1.41.59.51 0 1.02-.2 1.41-.59l7.78-7.78 2.81-2.81c.8-.78.8-2.07 0-2.86zM5.41 20L4 18.59l7.72-7.72 1.47 1.35L5.41 20z\"/>\n",
              "  </svg>\n",
              "      </button>\n",
              "      \n",
              "  <style>\n",
              "    .colab-df-container {\n",
              "      display:flex;\n",
              "      flex-wrap:wrap;\n",
              "      gap: 12px;\n",
              "    }\n",
              "\n",
              "    .colab-df-convert {\n",
              "      background-color: #E8F0FE;\n",
              "      border: none;\n",
              "      border-radius: 50%;\n",
              "      cursor: pointer;\n",
              "      display: none;\n",
              "      fill: #1967D2;\n",
              "      height: 32px;\n",
              "      padding: 0 0 0 0;\n",
              "      width: 32px;\n",
              "    }\n",
              "\n",
              "    .colab-df-convert:hover {\n",
              "      background-color: #E2EBFA;\n",
              "      box-shadow: 0px 1px 2px rgba(60, 64, 67, 0.3), 0px 1px 3px 1px rgba(60, 64, 67, 0.15);\n",
              "      fill: #174EA6;\n",
              "    }\n",
              "\n",
              "    [theme=dark] .colab-df-convert {\n",
              "      background-color: #3B4455;\n",
              "      fill: #D2E3FC;\n",
              "    }\n",
              "\n",
              "    [theme=dark] .colab-df-convert:hover {\n",
              "      background-color: #434B5C;\n",
              "      box-shadow: 0px 1px 3px 1px rgba(0, 0, 0, 0.15);\n",
              "      filter: drop-shadow(0px 1px 2px rgba(0, 0, 0, 0.3));\n",
              "      fill: #FFFFFF;\n",
              "    }\n",
              "  </style>\n",
              "\n",
              "      <script>\n",
              "        const buttonEl =\n",
              "          document.querySelector('#df-2f73d20f-1dc5-40bb-8c50-0c6d70b79d05 button.colab-df-convert');\n",
              "        buttonEl.style.display =\n",
              "          google.colab.kernel.accessAllowed ? 'block' : 'none';\n",
              "\n",
              "        async function convertToInteractive(key) {\n",
              "          const element = document.querySelector('#df-2f73d20f-1dc5-40bb-8c50-0c6d70b79d05');\n",
              "          const dataTable =\n",
              "            await google.colab.kernel.invokeFunction('convertToInteractive',\n",
              "                                                     [key], {});\n",
              "          if (!dataTable) return;\n",
              "\n",
              "          const docLinkHtml = 'Like what you see? Visit the ' +\n",
              "            '<a target=\"_blank\" href=https://colab.research.google.com/notebooks/data_table.ipynb>data table notebook</a>'\n",
              "            + ' to learn more about interactive tables.';\n",
              "          element.innerHTML = '';\n",
              "          dataTable['output_type'] = 'display_data';\n",
              "          await google.colab.output.renderOutput(dataTable, element);\n",
              "          const docLink = document.createElement('div');\n",
              "          docLink.innerHTML = docLinkHtml;\n",
              "          element.appendChild(docLink);\n",
              "        }\n",
              "      </script>\n",
              "    </div>\n",
              "  </div>\n",
              "  "
            ]
          },
          "metadata": {},
          "execution_count": 29
        }
      ]
    },
    {
      "cell_type": "code",
      "source": [
        "y_train\n"
      ],
      "metadata": {
        "colab": {
          "base_uri": "https://localhost:8080/"
        },
        "id": "QiYGDDoBtxVp",
        "outputId": "9b58e5aa-394e-412f-83be-38b9b3a0ec0d"
      },
      "execution_count": 30,
      "outputs": [
        {
          "output_type": "execute_result",
          "data": {
            "text/plain": [
              "326     62.1\n",
              "410     50.0\n",
              "391     31.3\n",
              "352     25.7\n",
              "132     37.5\n",
              "       ...  \n",
              "71      40.8\n",
              "106     47.1\n",
              "270    117.5\n",
              "348     53.7\n",
              "102     54.4\n",
              "Name: PriceOfUnitArea, Length: 310, dtype: float64"
            ]
          },
          "metadata": {},
          "execution_count": 30
        }
      ]
    },
    {
      "cell_type": "code",
      "source": [
        "model.fit(X_train, y_train)\n"
      ],
      "metadata": {
        "colab": {
          "base_uri": "https://localhost:8080/",
          "height": 311
        },
        "id": "zePiW7oluYus",
        "outputId": "e2c7d900-afc7-4402-9a8b-cc8c8ba6ac6d"
      },
      "execution_count": 31,
      "outputs": [
        {
          "output_type": "stream",
          "name": "stderr",
          "text": [
            "/usr/local/lib/python3.10/dist-packages/sklearn/linear_model/_ridge.py:216: LinAlgWarning: Ill-conditioned matrix (rcond=2.11101e-19): result may not be accurate.\n",
            "  return linalg.solve(A, Xy, assume_a=\"pos\", overwrite_a=True).T\n"
          ]
        },
        {
          "output_type": "execute_result",
          "data": {
            "text/plain": [
              "Pipeline(steps=[('columntransformer',\n",
              "                 ColumnTransformer(remainder='passthrough',\n",
              "                                   transformers=[('onehotencoder',\n",
              "                                                  OneHotEncoder(drop='if_binary'),\n",
              "                                                  ['DistanceToMRT_Category'])],\n",
              "                                   verbose_feature_names_out=False)),\n",
              "                ('transformedtargetregressor',\n",
              "                 TransformedTargetRegressor(func=<ufunc 'log10'>,\n",
              "                                            inverse_func=<ufunc 'exp10'>,\n",
              "                                            regressor=Ridge(alpha=1e-10)))])"
            ],
            "text/html": [
              "<style>#sk-container-id-1 {color: black;background-color: white;}#sk-container-id-1 pre{padding: 0;}#sk-container-id-1 div.sk-toggleable {background-color: white;}#sk-container-id-1 label.sk-toggleable__label {cursor: pointer;display: block;width: 100%;margin-bottom: 0;padding: 0.3em;box-sizing: border-box;text-align: center;}#sk-container-id-1 label.sk-toggleable__label-arrow:before {content: \"▸\";float: left;margin-right: 0.25em;color: #696969;}#sk-container-id-1 label.sk-toggleable__label-arrow:hover:before {color: black;}#sk-container-id-1 div.sk-estimator:hover label.sk-toggleable__label-arrow:before {color: black;}#sk-container-id-1 div.sk-toggleable__content {max-height: 0;max-width: 0;overflow: hidden;text-align: left;background-color: #f0f8ff;}#sk-container-id-1 div.sk-toggleable__content pre {margin: 0.2em;color: black;border-radius: 0.25em;background-color: #f0f8ff;}#sk-container-id-1 input.sk-toggleable__control:checked~div.sk-toggleable__content {max-height: 200px;max-width: 100%;overflow: auto;}#sk-container-id-1 input.sk-toggleable__control:checked~label.sk-toggleable__label-arrow:before {content: \"▾\";}#sk-container-id-1 div.sk-estimator input.sk-toggleable__control:checked~label.sk-toggleable__label {background-color: #d4ebff;}#sk-container-id-1 div.sk-label input.sk-toggleable__control:checked~label.sk-toggleable__label {background-color: #d4ebff;}#sk-container-id-1 input.sk-hidden--visually {border: 0;clip: rect(1px 1px 1px 1px);clip: rect(1px, 1px, 1px, 1px);height: 1px;margin: -1px;overflow: hidden;padding: 0;position: absolute;width: 1px;}#sk-container-id-1 div.sk-estimator {font-family: monospace;background-color: #f0f8ff;border: 1px dotted black;border-radius: 0.25em;box-sizing: border-box;margin-bottom: 0.5em;}#sk-container-id-1 div.sk-estimator:hover {background-color: #d4ebff;}#sk-container-id-1 div.sk-parallel-item::after {content: \"\";width: 100%;border-bottom: 1px solid gray;flex-grow: 1;}#sk-container-id-1 div.sk-label:hover label.sk-toggleable__label {background-color: #d4ebff;}#sk-container-id-1 div.sk-serial::before {content: \"\";position: absolute;border-left: 1px solid gray;box-sizing: border-box;top: 0;bottom: 0;left: 50%;z-index: 0;}#sk-container-id-1 div.sk-serial {display: flex;flex-direction: column;align-items: center;background-color: white;padding-right: 0.2em;padding-left: 0.2em;position: relative;}#sk-container-id-1 div.sk-item {position: relative;z-index: 1;}#sk-container-id-1 div.sk-parallel {display: flex;align-items: stretch;justify-content: center;background-color: white;position: relative;}#sk-container-id-1 div.sk-item::before, #sk-container-id-1 div.sk-parallel-item::before {content: \"\";position: absolute;border-left: 1px solid gray;box-sizing: border-box;top: 0;bottom: 0;left: 50%;z-index: -1;}#sk-container-id-1 div.sk-parallel-item {display: flex;flex-direction: column;z-index: 1;position: relative;background-color: white;}#sk-container-id-1 div.sk-parallel-item:first-child::after {align-self: flex-end;width: 50%;}#sk-container-id-1 div.sk-parallel-item:last-child::after {align-self: flex-start;width: 50%;}#sk-container-id-1 div.sk-parallel-item:only-child::after {width: 0;}#sk-container-id-1 div.sk-dashed-wrapped {border: 1px dashed gray;margin: 0 0.4em 0.5em 0.4em;box-sizing: border-box;padding-bottom: 0.4em;background-color: white;}#sk-container-id-1 div.sk-label label {font-family: monospace;font-weight: bold;display: inline-block;line-height: 1.2em;}#sk-container-id-1 div.sk-label-container {text-align: center;}#sk-container-id-1 div.sk-container {/* jupyter's `normalize.less` sets `[hidden] { display: none; }` but bootstrap.min.css set `[hidden] { display: none !important; }` so we also need the `!important` here to be able to override the default hidden behavior on the sphinx rendered scikit-learn.org. See: https://github.com/scikit-learn/scikit-learn/issues/21755 */display: inline-block !important;position: relative;}#sk-container-id-1 div.sk-text-repr-fallback {display: none;}</style><div id=\"sk-container-id-1\" class=\"sk-top-container\"><div class=\"sk-text-repr-fallback\"><pre>Pipeline(steps=[(&#x27;columntransformer&#x27;,\n",
              "                 ColumnTransformer(remainder=&#x27;passthrough&#x27;,\n",
              "                                   transformers=[(&#x27;onehotencoder&#x27;,\n",
              "                                                  OneHotEncoder(drop=&#x27;if_binary&#x27;),\n",
              "                                                  [&#x27;DistanceToMRT_Category&#x27;])],\n",
              "                                   verbose_feature_names_out=False)),\n",
              "                (&#x27;transformedtargetregressor&#x27;,\n",
              "                 TransformedTargetRegressor(func=&lt;ufunc &#x27;log10&#x27;&gt;,\n",
              "                                            inverse_func=&lt;ufunc &#x27;exp10&#x27;&gt;,\n",
              "                                            regressor=Ridge(alpha=1e-10)))])</pre><b>In a Jupyter environment, please rerun this cell to show the HTML representation or trust the notebook. <br />On GitHub, the HTML representation is unable to render, please try loading this page with nbviewer.org.</b></div><div class=\"sk-container\" hidden><div class=\"sk-item sk-dashed-wrapped\"><div class=\"sk-label-container\"><div class=\"sk-label sk-toggleable\"><input class=\"sk-toggleable__control sk-hidden--visually\" id=\"sk-estimator-id-1\" type=\"checkbox\" ><label for=\"sk-estimator-id-1\" class=\"sk-toggleable__label sk-toggleable__label-arrow\">Pipeline</label><div class=\"sk-toggleable__content\"><pre>Pipeline(steps=[(&#x27;columntransformer&#x27;,\n",
              "                 ColumnTransformer(remainder=&#x27;passthrough&#x27;,\n",
              "                                   transformers=[(&#x27;onehotencoder&#x27;,\n",
              "                                                  OneHotEncoder(drop=&#x27;if_binary&#x27;),\n",
              "                                                  [&#x27;DistanceToMRT_Category&#x27;])],\n",
              "                                   verbose_feature_names_out=False)),\n",
              "                (&#x27;transformedtargetregressor&#x27;,\n",
              "                 TransformedTargetRegressor(func=&lt;ufunc &#x27;log10&#x27;&gt;,\n",
              "                                            inverse_func=&lt;ufunc &#x27;exp10&#x27;&gt;,\n",
              "                                            regressor=Ridge(alpha=1e-10)))])</pre></div></div></div><div class=\"sk-serial\"><div class=\"sk-item sk-dashed-wrapped\"><div class=\"sk-label-container\"><div class=\"sk-label sk-toggleable\"><input class=\"sk-toggleable__control sk-hidden--visually\" id=\"sk-estimator-id-2\" type=\"checkbox\" ><label for=\"sk-estimator-id-2\" class=\"sk-toggleable__label sk-toggleable__label-arrow\">columntransformer: ColumnTransformer</label><div class=\"sk-toggleable__content\"><pre>ColumnTransformer(remainder=&#x27;passthrough&#x27;,\n",
              "                  transformers=[(&#x27;onehotencoder&#x27;,\n",
              "                                 OneHotEncoder(drop=&#x27;if_binary&#x27;),\n",
              "                                 [&#x27;DistanceToMRT_Category&#x27;])],\n",
              "                  verbose_feature_names_out=False)</pre></div></div></div><div class=\"sk-parallel\"><div class=\"sk-parallel-item\"><div class=\"sk-item\"><div class=\"sk-label-container\"><div class=\"sk-label sk-toggleable\"><input class=\"sk-toggleable__control sk-hidden--visually\" id=\"sk-estimator-id-3\" type=\"checkbox\" ><label for=\"sk-estimator-id-3\" class=\"sk-toggleable__label sk-toggleable__label-arrow\">onehotencoder</label><div class=\"sk-toggleable__content\"><pre>[&#x27;DistanceToMRT_Category&#x27;]</pre></div></div></div><div class=\"sk-serial\"><div class=\"sk-item\"><div class=\"sk-estimator sk-toggleable\"><input class=\"sk-toggleable__control sk-hidden--visually\" id=\"sk-estimator-id-4\" type=\"checkbox\" ><label for=\"sk-estimator-id-4\" class=\"sk-toggleable__label sk-toggleable__label-arrow\">OneHotEncoder</label><div class=\"sk-toggleable__content\"><pre>OneHotEncoder(drop=&#x27;if_binary&#x27;)</pre></div></div></div></div></div></div><div class=\"sk-parallel-item\"><div class=\"sk-item\"><div class=\"sk-label-container\"><div class=\"sk-label sk-toggleable\"><input class=\"sk-toggleable__control sk-hidden--visually\" id=\"sk-estimator-id-5\" type=\"checkbox\" ><label for=\"sk-estimator-id-5\" class=\"sk-toggleable__label sk-toggleable__label-arrow\">remainder</label><div class=\"sk-toggleable__content\"><pre>[&#x27;HouseAge&#x27;, &#x27;DistanceToMRT&#x27;, &#x27;NumberConvenienceStores&#x27;, &#x27;Latitude&#x27;, &#x27;Longitude&#x27;, &#x27;Year&#x27;, &#x27;Month&#x27;, &#x27;DayOfWeek&#x27;]</pre></div></div></div><div class=\"sk-serial\"><div class=\"sk-item\"><div class=\"sk-estimator sk-toggleable\"><input class=\"sk-toggleable__control sk-hidden--visually\" id=\"sk-estimator-id-6\" type=\"checkbox\" ><label for=\"sk-estimator-id-6\" class=\"sk-toggleable__label sk-toggleable__label-arrow\">passthrough</label><div class=\"sk-toggleable__content\"><pre>passthrough</pre></div></div></div></div></div></div></div></div><div class=\"sk-item sk-dashed-wrapped\"><div class=\"sk-label-container\"><div class=\"sk-label sk-toggleable\"><input class=\"sk-toggleable__control sk-hidden--visually\" id=\"sk-estimator-id-7\" type=\"checkbox\" ><label for=\"sk-estimator-id-7\" class=\"sk-toggleable__label sk-toggleable__label-arrow\">transformedtargetregressor: TransformedTargetRegressor</label><div class=\"sk-toggleable__content\"><pre>TransformedTargetRegressor(func=&lt;ufunc &#x27;log10&#x27;&gt;, inverse_func=&lt;ufunc &#x27;exp10&#x27;&gt;,\n",
              "                           regressor=Ridge(alpha=1e-10))</pre></div></div></div><div class=\"sk-parallel\"><div class=\"sk-parallel-item\"><div class=\"sk-item\"><div class=\"sk-label-container\"><div class=\"sk-label sk-toggleable\"><input class=\"sk-toggleable__control sk-hidden--visually\" id=\"sk-estimator-id-8\" type=\"checkbox\" ><label for=\"sk-estimator-id-8\" class=\"sk-toggleable__label sk-toggleable__label-arrow\">regressor: Ridge</label><div class=\"sk-toggleable__content\"><pre>Ridge(alpha=1e-10)</pre></div></div></div><div class=\"sk-serial\"><div class=\"sk-item\"><div class=\"sk-estimator sk-toggleable\"><input class=\"sk-toggleable__control sk-hidden--visually\" id=\"sk-estimator-id-9\" type=\"checkbox\" ><label for=\"sk-estimator-id-9\" class=\"sk-toggleable__label sk-toggleable__label-arrow\">Ridge</label><div class=\"sk-toggleable__content\"><pre>Ridge(alpha=1e-10)</pre></div></div></div></div></div></div></div></div></div></div></div></div>"
            ]
          },
          "metadata": {},
          "execution_count": 31
        }
      ]
    },
    {
      "cell_type": "code",
      "source": [
        "from sklearn.metrics import median_absolute_error\n",
        "\n",
        "y_pred = model.predict(X_train)\n",
        "\n",
        "mae = median_absolute_error(y_train, y_pred)\n",
        "string_score = f\"MAE on training set: {mae: 2f} usd\"\n",
        "y_pred = model.predict(X_test)\n",
        "mae = median_absolute_error(y_test, y_pred)\n",
        "string_score += f\"\\nMAR on testing set: {mae: 2f} usd\""
      ],
      "metadata": {
        "id": "QQ3omAjCwsvd"
      },
      "execution_count": 32,
      "outputs": []
    },
    {
      "cell_type": "code",
      "source": [
        "import matplotlib.pyplot as plt"
      ],
      "metadata": {
        "id": "5m5agj0p0GCm"
      },
      "execution_count": 33,
      "outputs": []
    },
    {
      "cell_type": "code",
      "source": [
        "fig, ax = plt.subplots (figsize = (5,5))\n",
        "plt.scatter(y_test, y_pred)\n",
        "ax.plot([0, 1], [0, 1], transform=ax.transAxes, ls=\"--\", c=\"red\")\n",
        "plt.title(\"Ridge model, small regularization\")\n",
        "plt.ylabel(\"Model predictions\")\n",
        "plt.xlabel(\"verdad\")"
      ],
      "metadata": {
        "colab": {
          "base_uri": "https://localhost:8080/",
          "height": 504
        },
        "id": "5wQJ7mxMz8U1",
        "outputId": "6d1c2e16-29a4-4300-a84e-e4a94a0dd5c4"
      },
      "execution_count": 34,
      "outputs": [
        {
          "output_type": "execute_result",
          "data": {
            "text/plain": [
              "Text(0.5, 0, 'verdad')"
            ]
          },
          "metadata": {},
          "execution_count": 34
        },
        {
          "output_type": "display_data",
          "data": {
            "text/plain": [
              "<Figure size 500x500 with 1 Axes>"
            ],
            "image/png": "[encoded data removed]"
          },
          "metadata": {}
        }
      ]
    },
    {
      "cell_type": "code",
      "source": [
        "feature_names = model[:-1].get_feature_names_out()\n",
        "\n",
        "coefs = pd.DataFrame(\n",
        "    model[-1].regressor_.coef_,\n",
        "    columns=[\"Coefficients\"],\n",
        "    index=feature_names\n",
        ")\n",
        "\n",
        "coefs"
      ],
      "metadata": {
        "colab": {
          "base_uri": "https://localhost:8080/",
          "height": 394
        },
        "id": "EZvdLBZTz_Xe",
        "outputId": "263c864d-87ad-44ed-d2c9-9bff30eaa4b5"
      },
      "execution_count": 35,
      "outputs": [
        {
          "output_type": "execute_result",
          "data": {
            "text/plain": [
              "                                Coefficients\n",
              "DistanceToMRT_Category_Cercano      0.057138\n",
              "DistanceToMRT_Category_Lejano      -0.042657\n",
              "DistanceToMRT_Category_Medio       -0.014472\n",
              "HouseAge                           -0.002721\n",
              "DistanceToMRT                      -0.000036\n",
              "NumberConvenienceStores             0.007972\n",
              "Latitude                            3.899757\n",
              "Longitude                           0.405133\n",
              "Year                                0.000000\n",
              "Month                               0.000000\n",
              "DayOfWeek                           0.000000"
            ],
            "text/html": [
              "\n",
              "  <div id=\"df-1d24f278-b32e-41f0-92dc-f4638a98788e\">\n",
              "    <div class=\"colab-df-container\">\n",
              "      <div>\n",
              "<style scoped>\n",
              "    .dataframe tbody tr th:only-of-type {\n",
              "        vertical-align: middle;\n",
              "    }\n",
              "\n",
              "    .dataframe tbody tr th {\n",
              "        vertical-align: top;\n",
              "    }\n",
              "\n",
              "    .dataframe thead th {\n",
              "        text-align: right;\n",
              "    }\n",
              "</style>\n",
              "<table border=\"1\" class=\"dataframe\">\n",
              "  <thead>\n",
              "    <tr style=\"text-align: right;\">\n",
              "      <th></th>\n",
              "      <th>Coefficients</th>\n",
              "    </tr>\n",
              "  </thead>\n",
              "  <tbody>\n",
              "    <tr>\n",
              "      <th>DistanceToMRT_Category_Cercano</th>\n",
              "      <td>0.057138</td>\n",
              "    </tr>\n",
              "    <tr>\n",
              "      <th>DistanceToMRT_Category_Lejano</th>\n",
              "      <td>-0.042657</td>\n",
              "    </tr>\n",
              "    <tr>\n",
              "      <th>DistanceToMRT_Category_Medio</th>\n",
              "      <td>-0.014472</td>\n",
              "    </tr>\n",
              "    <tr>\n",
              "      <th>HouseAge</th>\n",
              "      <td>-0.002721</td>\n",
              "    </tr>\n",
              "    <tr>\n",
              "      <th>DistanceToMRT</th>\n",
              "      <td>-0.000036</td>\n",
              "    </tr>\n",
              "    <tr>\n",
              "      <th>NumberConvenienceStores</th>\n",
              "      <td>0.007972</td>\n",
              "    </tr>\n",
              "    <tr>\n",
              "      <th>Latitude</th>\n",
              "      <td>3.899757</td>\n",
              "    </tr>\n",
              "    <tr>\n",
              "      <th>Longitude</th>\n",
              "      <td>0.405133</td>\n",
              "    </tr>\n",
              "    <tr>\n",
              "      <th>Year</th>\n",
              "      <td>0.000000</td>\n",
              "    </tr>\n",
              "    <tr>\n",
              "      <th>Month</th>\n",
              "      <td>0.000000</td>\n",
              "    </tr>\n",
              "    <tr>\n",
              "      <th>DayOfWeek</th>\n",
              "      <td>0.000000</td>\n",
              "    </tr>\n",
              "  </tbody>\n",
              "</table>\n",
              "</div>\n",
              "      <button class=\"colab-df-convert\" onclick=\"convertToInteractive('df-1d24f278-b32e-41f0-92dc-f4638a98788e')\"\n",
              "              title=\"Convert this dataframe to an interactive table.\"\n",
              "              style=\"display:none;\">\n",
              "        \n",
              "  <svg xmlns=\"http://www.w3.org/2000/svg\" height=\"24px\"viewBox=\"0 0 24 24\"\n",
              "       width=\"24px\">\n",
              "    <path d=\"M0 0h24v24H0V0z\" fill=\"none\"/>\n",
              "    <path d=\"M18.56 5.44l.94 2.06.94-2.06 2.06-.94-2.06-.94-.94-2.06-.94 2.06-2.06.94zm-11 1L8.5 8.5l.94-2.06 2.06-.94-2.06-.94L8.5 2.5l-.94 2.06-2.06.94zm10 10l.94 2.06.94-2.06 2.06-.94-2.06-.94-.94-2.06-.94 2.06-2.06.94z\"/><path d=\"M17.41 7.96l-1.37-1.37c-.4-.4-.92-.59-1.43-.59-.52 0-1.04.2-1.43.59L10.3 9.45l-7.72 7.72c-.78.78-.78 2.05 0 2.83L4 21.41c.39.39.9.59 1.41.59.51 0 1.02-.2 1.41-.59l7.78-7.78 2.81-2.81c.8-.78.8-2.07 0-2.86zM5.41 20L4 18.59l7.72-7.72 1.47 1.35L5.41 20z\"/>\n",
              "  </svg>\n",
              "      </button>\n",
              "      \n",
              "  <style>\n",
              "    .colab-df-container {\n",
              "      display:flex;\n",
              "      flex-wrap:wrap;\n",
              "      gap: 12px;\n",
              "    }\n",
              "\n",
              "    .colab-df-convert {\n",
              "      background-color: #E8F0FE;\n",
              "      border: none;\n",
              "      border-radius: 50%;\n",
              "      cursor: pointer;\n",
              "      display: none;\n",
              "      fill: #1967D2;\n",
              "      height: 32px;\n",
              "      padding: 0 0 0 0;\n",
              "      width: 32px;\n",
              "    }\n",
              "\n",
              "    .colab-df-convert:hover {\n",
              "      background-color: #E2EBFA;\n",
              "      box-shadow: 0px 1px 2px rgba(60, 64, 67, 0.3), 0px 1px 3px 1px rgba(60, 64, 67, 0.15);\n",
              "      fill: #174EA6;\n",
              "    }\n",
              "\n",
              "    [theme=dark] .colab-df-convert {\n",
              "      background-color: #3B4455;\n",
              "      fill: #D2E3FC;\n",
              "    }\n",
              "\n",
              "    [theme=dark] .colab-df-convert:hover {\n",
              "      background-color: #434B5C;\n",
              "      box-shadow: 0px 1px 3px 1px rgba(0, 0, 0, 0.15);\n",
              "      filter: drop-shadow(0px 1px 2px rgba(0, 0, 0, 0.3));\n",
              "      fill: #FFFFFF;\n",
              "    }\n",
              "  </style>\n",
              "\n",
              "      <script>\n",
              "        const buttonEl =\n",
              "          document.querySelector('#df-1d24f278-b32e-41f0-92dc-f4638a98788e button.colab-df-convert');\n",
              "        buttonEl.style.display =\n",
              "          google.colab.kernel.accessAllowed ? 'block' : 'none';\n",
              "\n",
              "        async function convertToInteractive(key) {\n",
              "          const element = document.querySelector('#df-1d24f278-b32e-41f0-92dc-f4638a98788e');\n",
              "          const dataTable =\n",
              "            await google.colab.kernel.invokeFunction('convertToInteractive',\n",
              "                                                     [key], {});\n",
              "          if (!dataTable) return;\n",
              "\n",
              "          const docLinkHtml = 'Like what you see? Visit the ' +\n",
              "            '<a target=\"_blank\" href=https://colab.research.google.com/notebooks/data_table.ipynb>data table notebook</a>'\n",
              "            + ' to learn more about interactive tables.';\n",
              "          element.innerHTML = '';\n",
              "          dataTable['output_type'] = 'display_data';\n",
              "          await google.colab.output.renderOutput(dataTable, element);\n",
              "          const docLink = document.createElement('div');\n",
              "          docLink.innerHTML = docLinkHtml;\n",
              "          element.appendChild(docLink);\n",
              "        }\n",
              "      </script>\n",
              "    </div>\n",
              "  </div>\n",
              "  "
            ]
          },
          "metadata": {},
          "execution_count": 35
        }
      ]
    },
    {
      "cell_type": "code",
      "source": [
        "coefs.plot.barh(figsize=(9,7))\n",
        "plt.title(\"Ridge model, small regularization\")\n",
        "plt.axvline(x=0, color=\".5\")\n",
        "plt.xlabel(\"Raw coefficient values\")\n",
        "plt.subplots_adjust(left=0.3)"
      ],
      "metadata": {
        "colab": {
          "base_uri": "https://localhost:8080/",
          "height": 559
        },
        "id": "jRJX4sdzBde0",
        "outputId": "ba6da89e-8885-4717-de6d-e853518934d1"
      },
      "execution_count": 36,
      "outputs": [
        {
          "output_type": "display_data",
          "data": {
            "text/plain": [
              "<Figure size 900x700 with 1 Axes>"
            ],
            "image/png": "[encoded data removed]"
          },
          "metadata": {}
        }
      ]
    },
    {
      "cell_type": "code",
      "source": [
        "X_train_preprocessed = pd.DataFrame(\n",
        "    model[:-1].transform(X_train), columns=feature_names\n",
        ")\n",
        "\n",
        "X_train_preprocessed.std(axis=0).plot.barh(figsize=(9,7))\n",
        "plt.title(\"Feature ranges\")\n",
        "plt.xlabel(\"Std. dev. of feature values\")\n",
        "plt.subplots_adjust(left=0.3)"
      ],
      "metadata": {
        "colab": {
          "base_uri": "https://localhost:8080/",
          "height": 559
        },
        "id": "JXBkh8zsBhO7",
        "outputId": "db6a6943-72d5-4731-ad6e-94c2bb9f3842"
      },
      "execution_count": 37,
      "outputs": [
        {
          "output_type": "display_data",
          "data": {
            "text/plain": [
              "<Figure size 900x700 with 1 Axes>"
            ],
            "image/png": "[encoded data removed]"
          },
          "metadata": {}
        }
      ]
    },
    {
      "cell_type": "code",
      "source": [
        "coefs = pd.DataFrame(\n",
        "    model[-1].regressor_.coef_ * X_train_preprocessed.std(axis=0),\n",
        "    columns=[\"Coefficient importance\"],\n",
        "    index=feature_names,\n",
        ")\n",
        "coefs.plot(kind=\"barh\", figsize=(9,7))\n",
        "plt.xlabel(\"Coefficient values corrected by the feature's std. dev.\")\n",
        "plt.title(\"Ridge model, small regularization\")\n",
        "plt.axvline(x=0, color=\".5\")\n",
        "plt.subplots_adjust(left=0.3)"
      ],
      "metadata": {
        "colab": {
          "base_uri": "https://localhost:8080/",
          "height": 559
        },
        "id": "BnXoQF5qBlLO",
        "outputId": "bca421f7-8c0d-45a7-b0db-93ecae26d228"
      },
      "execution_count": 38,
      "outputs": [
        {
          "output_type": "display_data",
          "data": {
            "text/plain": [
              "<Figure size 900x700 with 1 Axes>"
            ],
            "image/png": "[encoded data removed]"
          },
          "metadata": {}
        }
      ]
    },
    {
      "cell_type": "code",
      "source": [
        "from sklearn.model_selection import RepeatedKFold, cross_validate\n"
      ],
      "metadata": {
        "id": "WxodIEeyFRpI"
      },
      "execution_count": 39,
      "outputs": []
    },
    {
      "cell_type": "code",
      "source": [
        "cv = RepeatedKFold(n_splits=5, n_repeats=5, random_state=0)\n",
        "cv_model = cross_validate(\n",
        "    model,\n",
        "    x,\n",
        "    y,\n",
        "    cv=cv,\n",
        "    return_estimator=True,\n",
        "    n_jobs=2,\n",
        ")\n",
        "coefs = pd.DataFrame(\n",
        "    [\n",
        "        est[-1].regressor_.coef_\n",
        "        for est, (train_idx, _) in zip(cv_model[\"estimator\"], cv.split(x, y))\n",
        "    ],\n",
        "    columns=feature_names,\n",
        ")\n"
      ],
      "metadata": {
        "id": "ie6Xps5NBpdC"
      },
      "execution_count": 40,
      "outputs": []
    },
    {
      "cell_type": "code",
      "source": [],
      "metadata": {
        "id": "ZclNtiTJB5ki"
      },
      "execution_count": 40,
      "outputs": []
    },
    {
      "cell_type": "code",
      "source": [
        "plt.figure(figsize=(5, 5))\n",
        "sns.stripplot(data=coefs, orient=\"h\", color=\"k\", alpha=0.5)\n",
        "sns.boxplot(data=coefs, orient=\"h\", color=\"cyan\", saturation=0.5)\n",
        "plt.axvline(x=0, color=\"0.5\")\n",
        "plt.title(\"Coeficiente de importancia y su variabilidad\")\n",
        "plt.xlabel(\"Coeficiente de importancia\")\n",
        "plt.show()\n"
      ],
      "metadata": {
        "colab": {
          "base_uri": "https://localhost:8080/",
          "height": 542
        },
        "id": "Cq79gYYFB5v-",
        "outputId": "33539016-c2db-458c-e088-643577ee9800"
      },
      "execution_count": 41,
      "outputs": [
        {
          "output_type": "stream",
          "name": "stderr",
          "text": [
            "/usr/local/lib/python3.10/dist-packages/seaborn/categorical.py:166: FutureWarning: Setting a gradient palette using color= is deprecated and will be removed in version 0.13. Set `palette='dark:k'` for same effect.\n",
            "  warnings.warn(msg, FutureWarning)\n"
          ]
        },
        {
          "output_type": "display_data",
          "data": {
            "text/plain": [
              "<Figure size 500x500 with 1 Axes>"
            ],
            "image/png": "[encoded data removed]"
          },
          "metadata": {}
        }
      ]
    },
    {
      "cell_type": "markdown",
      "source": [
        "Este resultado puede interpretarse como que la ubicación geográfica (representada por la latitud y longitud) tiene un impacto significativo en el precio de la unidad de área. Es posible que las propiedades ubicadas en ciertas áreas geográficas tengan valores de precios más altos debido a factores como la accesibilidad, servicios cercanos, entorno, entre otros."
      ],
      "metadata": {
        "id": "sVB8m4KQGUsW"
      }
    },
    {
      "cell_type": "markdown",
      "source": [],
      "metadata": {
        "id": "AJy8iwL0KKzi"
      }
    },
    {
      "cell_type": "code",
      "source": [
        "from sklearn.linear_model import RidgeCV\n",
        "\n",
        "alphas = np.logspace(-10, 10 , 21)\n",
        "model = make_pipeline(\n",
        "    preprocessor,\n",
        "    TransformedTargetRegressor(\n",
        "        regressor=RidgeCV(alphas=alphas),\n",
        "        func=np.log10,\n",
        "        inverse_func=sp.special.exp10,\n",
        "    ),\n",
        ")\n",
        "model.fit(X_train, y_train)"
      ],
      "metadata": {
        "colab": {
          "base_uri": "https://localhost:8080/",
          "height": 256
        },
        "id": "SLb6pRuUKLBS",
        "outputId": "425ec573-807a-41ad-f152-d8cdede449ca"
      },
      "execution_count": 42,
      "outputs": [
        {
          "output_type": "execute_result",
          "data": {
            "text/plain": [
              "Pipeline(steps=[('columntransformer',\n",
              "                 ColumnTransformer(remainder='passthrough',\n",
              "                                   transformers=[('onehotencoder',\n",
              "                                                  OneHotEncoder(drop='if_binary'),\n",
              "                                                  ['DistanceToMRT_Category'])],\n",
              "                                   verbose_feature_names_out=False)),\n",
              "                ('transformedtargetregressor',\n",
              "                 TransformedTargetRegressor(func=<ufunc 'log10'>,\n",
              "                                            inverse_func=<ufunc 'exp10'>,\n",
              "                                            regressor=RidgeCV(alphas=array([1.e-10, 1.e-09, 1.e-08, 1.e-07, 1.e-06, 1.e-05, 1.e-04, 1.e-03,\n",
              "       1.e-02, 1.e-01, 1.e+00, 1.e+01, 1.e+02, 1.e+03, 1.e+04, 1.e+05,\n",
              "       1.e+06, 1.e+07, 1.e+08, 1.e+09, 1.e+10]))))])"
            ],
            "text/html": [
              "<style>#sk-container-id-2 {color: black;background-color: white;}#sk-container-id-2 pre{padding: 0;}#sk-container-id-2 div.sk-toggleable {background-color: white;}#sk-container-id-2 label.sk-toggleable__label {cursor: pointer;display: block;width: 100%;margin-bottom: 0;padding: 0.3em;box-sizing: border-box;text-align: center;}#sk-container-id-2 label.sk-toggleable__label-arrow:before {content: \"▸\";float: left;margin-right: 0.25em;color: #696969;}#sk-container-id-2 label.sk-toggleable__label-arrow:hover:before {color: black;}#sk-container-id-2 div.sk-estimator:hover label.sk-toggleable__label-arrow:before {color: black;}#sk-container-id-2 div.sk-toggleable__content {max-height: 0;max-width: 0;overflow: hidden;text-align: left;background-color: #f0f8ff;}#sk-container-id-2 div.sk-toggleable__content pre {margin: 0.2em;color: black;border-radius: 0.25em;background-color: #f0f8ff;}#sk-container-id-2 input.sk-toggleable__control:checked~div.sk-toggleable__content {max-height: 200px;max-width: 100%;overflow: auto;}#sk-container-id-2 input.sk-toggleable__control:checked~label.sk-toggleable__label-arrow:before {content: \"▾\";}#sk-container-id-2 div.sk-estimator input.sk-toggleable__control:checked~label.sk-toggleable__label {background-color: #d4ebff;}#sk-container-id-2 div.sk-label input.sk-toggleable__control:checked~label.sk-toggleable__label {background-color: #d4ebff;}#sk-container-id-2 input.sk-hidden--visually {border: 0;clip: rect(1px 1px 1px 1px);clip: rect(1px, 1px, 1px, 1px);height: 1px;margin: -1px;overflow: hidden;padding: 0;position: absolute;width: 1px;}#sk-container-id-2 div.sk-estimator {font-family: monospace;background-color: #f0f8ff;border: 1px dotted black;border-radius: 0.25em;box-sizing: border-box;margin-bottom: 0.5em;}#sk-container-id-2 div.sk-estimator:hover {background-color: #d4ebff;}#sk-container-id-2 div.sk-parallel-item::after {content: \"\";width: 100%;border-bottom: 1px solid gray;flex-grow: 1;}#sk-container-id-2 div.sk-label:hover label.sk-toggleable__label {background-color: #d4ebff;}#sk-container-id-2 div.sk-serial::before {content: \"\";position: absolute;border-left: 1px solid gray;box-sizing: border-box;top: 0;bottom: 0;left: 50%;z-index: 0;}#sk-container-id-2 div.sk-serial {display: flex;flex-direction: column;align-items: center;background-color: white;padding-right: 0.2em;padding-left: 0.2em;position: relative;}#sk-container-id-2 div.sk-item {position: relative;z-index: 1;}#sk-container-id-2 div.sk-parallel {display: flex;align-items: stretch;justify-content: center;background-color: white;position: relative;}#sk-container-id-2 div.sk-item::before, #sk-container-id-2 div.sk-parallel-item::before {content: \"\";position: absolute;border-left: 1px solid gray;box-sizing: border-box;top: 0;bottom: 0;left: 50%;z-index: -1;}#sk-container-id-2 div.sk-parallel-item {display: flex;flex-direction: column;z-index: 1;position: relative;background-color: white;}#sk-container-id-2 div.sk-parallel-item:first-child::after {align-self: flex-end;width: 50%;}#sk-container-id-2 div.sk-parallel-item:last-child::after {align-self: flex-start;width: 50%;}#sk-container-id-2 div.sk-parallel-item:only-child::after {width: 0;}#sk-container-id-2 div.sk-dashed-wrapped {border: 1px dashed gray;margin: 0 0.4em 0.5em 0.4em;box-sizing: border-box;padding-bottom: 0.4em;background-color: white;}#sk-container-id-2 div.sk-label label {font-family: monospace;font-weight: bold;display: inline-block;line-height: 1.2em;}#sk-container-id-2 div.sk-label-container {text-align: center;}#sk-container-id-2 div.sk-container {/* jupyter's `normalize.less` sets `[hidden] { display: none; }` but bootstrap.min.css set `[hidden] { display: none !important; }` so we also need the `!important` here to be able to override the default hidden behavior on the sphinx rendered scikit-learn.org. See: https://github.com/scikit-learn/scikit-learn/issues/21755 */display: inline-block !important;position: relative;}#sk-container-id-2 div.sk-text-repr-fallback {display: none;}</style><div id=\"sk-container-id-2\" class=\"sk-top-container\"><div class=\"sk-text-repr-fallback\"><pre>Pipeline(steps=[(&#x27;columntransformer&#x27;,\n",
              "                 ColumnTransformer(remainder=&#x27;passthrough&#x27;,\n",
              "                                   transformers=[(&#x27;onehotencoder&#x27;,\n",
              "                                                  OneHotEncoder(drop=&#x27;if_binary&#x27;),\n",
              "                                                  [&#x27;DistanceToMRT_Category&#x27;])],\n",
              "                                   verbose_feature_names_out=False)),\n",
              "                (&#x27;transformedtargetregressor&#x27;,\n",
              "                 TransformedTargetRegressor(func=&lt;ufunc &#x27;log10&#x27;&gt;,\n",
              "                                            inverse_func=&lt;ufunc &#x27;exp10&#x27;&gt;,\n",
              "                                            regressor=RidgeCV(alphas=array([1.e-10, 1.e-09, 1.e-08, 1.e-07, 1.e-06, 1.e-05, 1.e-04, 1.e-03,\n",
              "       1.e-02, 1.e-01, 1.e+00, 1.e+01, 1.e+02, 1.e+03, 1.e+04, 1.e+05,\n",
              "       1.e+06, 1.e+07, 1.e+08, 1.e+09, 1.e+10]))))])</pre><b>In a Jupyter environment, please rerun this cell to show the HTML representation or trust the notebook. <br />On GitHub, the HTML representation is unable to render, please try loading this page with nbviewer.org.</b></div><div class=\"sk-container\" hidden><div class=\"sk-item sk-dashed-wrapped\"><div class=\"sk-label-container\"><div class=\"sk-label sk-toggleable\"><input class=\"sk-toggleable__control sk-hidden--visually\" id=\"sk-estimator-id-10\" type=\"checkbox\" ><label for=\"sk-estimator-id-10\" class=\"sk-toggleable__label sk-toggleable__label-arrow\">Pipeline</label><div class=\"sk-toggleable__content\"><pre>Pipeline(steps=[(&#x27;columntransformer&#x27;,\n",
              "                 ColumnTransformer(remainder=&#x27;passthrough&#x27;,\n",
              "                                   transformers=[(&#x27;onehotencoder&#x27;,\n",
              "                                                  OneHotEncoder(drop=&#x27;if_binary&#x27;),\n",
              "                                                  [&#x27;DistanceToMRT_Category&#x27;])],\n",
              "                                   verbose_feature_names_out=False)),\n",
              "                (&#x27;transformedtargetregressor&#x27;,\n",
              "                 TransformedTargetRegressor(func=&lt;ufunc &#x27;log10&#x27;&gt;,\n",
              "                                            inverse_func=&lt;ufunc &#x27;exp10&#x27;&gt;,\n",
              "                                            regressor=RidgeCV(alphas=array([1.e-10, 1.e-09, 1.e-08, 1.e-07, 1.e-06, 1.e-05, 1.e-04, 1.e-03,\n",
              "       1.e-02, 1.e-01, 1.e+00, 1.e+01, 1.e+02, 1.e+03, 1.e+04, 1.e+05,\n",
              "       1.e+06, 1.e+07, 1.e+08, 1.e+09, 1.e+10]))))])</pre></div></div></div><div class=\"sk-serial\"><div class=\"sk-item sk-dashed-wrapped\"><div class=\"sk-label-container\"><div class=\"sk-label sk-toggleable\"><input class=\"sk-toggleable__control sk-hidden--visually\" id=\"sk-estimator-id-11\" type=\"checkbox\" ><label for=\"sk-estimator-id-11\" class=\"sk-toggleable__label sk-toggleable__label-arrow\">columntransformer: ColumnTransformer</label><div class=\"sk-toggleable__content\"><pre>ColumnTransformer(remainder=&#x27;passthrough&#x27;,\n",
              "                  transformers=[(&#x27;onehotencoder&#x27;,\n",
              "                                 OneHotEncoder(drop=&#x27;if_binary&#x27;),\n",
              "                                 [&#x27;DistanceToMRT_Category&#x27;])],\n",
              "                  verbose_feature_names_out=False)</pre></div></div></div><div class=\"sk-parallel\"><div class=\"sk-parallel-item\"><div class=\"sk-item\"><div class=\"sk-label-container\"><div class=\"sk-label sk-toggleable\"><input class=\"sk-toggleable__control sk-hidden--visually\" id=\"sk-estimator-id-12\" type=\"checkbox\" ><label for=\"sk-estimator-id-12\" class=\"sk-toggleable__label sk-toggleable__label-arrow\">onehotencoder</label><div class=\"sk-toggleable__content\"><pre>[&#x27;DistanceToMRT_Category&#x27;]</pre></div></div></div><div class=\"sk-serial\"><div class=\"sk-item\"><div class=\"sk-estimator sk-toggleable\"><input class=\"sk-toggleable__control sk-hidden--visually\" id=\"sk-estimator-id-13\" type=\"checkbox\" ><label for=\"sk-estimator-id-13\" class=\"sk-toggleable__label sk-toggleable__label-arrow\">OneHotEncoder</label><div class=\"sk-toggleable__content\"><pre>OneHotEncoder(drop=&#x27;if_binary&#x27;)</pre></div></div></div></div></div></div><div class=\"sk-parallel-item\"><div class=\"sk-item\"><div class=\"sk-label-container\"><div class=\"sk-label sk-toggleable\"><input class=\"sk-toggleable__control sk-hidden--visually\" id=\"sk-estimator-id-14\" type=\"checkbox\" ><label for=\"sk-estimator-id-14\" class=\"sk-toggleable__label sk-toggleable__label-arrow\">remainder</label><div class=\"sk-toggleable__content\"><pre>[&#x27;HouseAge&#x27;, &#x27;DistanceToMRT&#x27;, &#x27;NumberConvenienceStores&#x27;, &#x27;Latitude&#x27;, &#x27;Longitude&#x27;, &#x27;Year&#x27;, &#x27;Month&#x27;, &#x27;DayOfWeek&#x27;]</pre></div></div></div><div class=\"sk-serial\"><div class=\"sk-item\"><div class=\"sk-estimator sk-toggleable\"><input class=\"sk-toggleable__control sk-hidden--visually\" id=\"sk-estimator-id-15\" type=\"checkbox\" ><label for=\"sk-estimator-id-15\" class=\"sk-toggleable__label sk-toggleable__label-arrow\">passthrough</label><div class=\"sk-toggleable__content\"><pre>passthrough</pre></div></div></div></div></div></div></div></div><div class=\"sk-item sk-dashed-wrapped\"><div class=\"sk-label-container\"><div class=\"sk-label sk-toggleable\"><input class=\"sk-toggleable__control sk-hidden--visually\" id=\"sk-estimator-id-16\" type=\"checkbox\" ><label for=\"sk-estimator-id-16\" class=\"sk-toggleable__label sk-toggleable__label-arrow\">transformedtargetregressor: TransformedTargetRegressor</label><div class=\"sk-toggleable__content\"><pre>TransformedTargetRegressor(func=&lt;ufunc &#x27;log10&#x27;&gt;, inverse_func=&lt;ufunc &#x27;exp10&#x27;&gt;,\n",
              "                           regressor=RidgeCV(alphas=array([1.e-10, 1.e-09, 1.e-08, 1.e-07, 1.e-06, 1.e-05, 1.e-04, 1.e-03,\n",
              "       1.e-02, 1.e-01, 1.e+00, 1.e+01, 1.e+02, 1.e+03, 1.e+04, 1.e+05,\n",
              "       1.e+06, 1.e+07, 1.e+08, 1.e+09, 1.e+10])))</pre></div></div></div><div class=\"sk-parallel\"><div class=\"sk-parallel-item\"><div class=\"sk-item\"><div class=\"sk-label-container\"><div class=\"sk-label sk-toggleable\"><input class=\"sk-toggleable__control sk-hidden--visually\" id=\"sk-estimator-id-17\" type=\"checkbox\" ><label for=\"sk-estimator-id-17\" class=\"sk-toggleable__label sk-toggleable__label-arrow\">regressor: RidgeCV</label><div class=\"sk-toggleable__content\"><pre>RidgeCV(alphas=array([1.e-10, 1.e-09, 1.e-08, 1.e-07, 1.e-06, 1.e-05, 1.e-04, 1.e-03,\n",
              "       1.e-02, 1.e-01, 1.e+00, 1.e+01, 1.e+02, 1.e+03, 1.e+04, 1.e+05,\n",
              "       1.e+06, 1.e+07, 1.e+08, 1.e+09, 1.e+10]))</pre></div></div></div><div class=\"sk-serial\"><div class=\"sk-item\"><div class=\"sk-estimator sk-toggleable\"><input class=\"sk-toggleable__control sk-hidden--visually\" id=\"sk-estimator-id-18\" type=\"checkbox\" ><label for=\"sk-estimator-id-18\" class=\"sk-toggleable__label sk-toggleable__label-arrow\">RidgeCV</label><div class=\"sk-toggleable__content\"><pre>RidgeCV(alphas=array([1.e-10, 1.e-09, 1.e-08, 1.e-07, 1.e-06, 1.e-05, 1.e-04, 1.e-03,\n",
              "       1.e-02, 1.e-01, 1.e+00, 1.e+01, 1.e+02, 1.e+03, 1.e+04, 1.e+05,\n",
              "       1.e+06, 1.e+07, 1.e+08, 1.e+09, 1.e+10]))</pre></div></div></div></div></div></div></div></div></div></div></div></div>"
            ]
          },
          "metadata": {},
          "execution_count": 42
        }
      ]
    },
    {
      "cell_type": "code",
      "source": [
        "model[-1].regressor_.alpha_"
      ],
      "metadata": {
        "colab": {
          "base_uri": "https://localhost:8080/"
        },
        "id": "cjzJiMldc9i8",
        "outputId": "949faa51-b871-4eaa-baa7-7149f02e675f"
      },
      "execution_count": 43,
      "outputs": [
        {
          "output_type": "execute_result",
          "data": {
            "text/plain": [
              "0.001"
            ]
          },
          "metadata": {},
          "execution_count": 43
        }
      ]
    },
    {
      "cell_type": "code",
      "source": [
        "y_pred = model.predict(X_train)\n",
        "mae = median_absolute_error(y_train, y_pred)\n",
        "string_score = f\"MAE: {mae:.2f}\"\n",
        "y_pred = model.predict(X_test)\n",
        "mae = median_absolute_error(y_test,y_pred)\n",
        "string_score = f\"MAE: {mae:.2f}\""
      ],
      "metadata": {
        "id": "GP36hME_KLEx"
      },
      "execution_count": 45,
      "outputs": []
    },
    {
      "cell_type": "code",
      "source": [
        "fig, ax = plt.subplots(figsize=(5, 5))  # Reducir el tamaño de la figura\n",
        "plt.scatter(y_test, y_pred)\n",
        "ax.plot([0, 1], [0, 1], transform=ax.transAxes, ls=\"--\", c=\"red\")\n",
        "plt.title(\"Ridge model, small regularization\")\n",
        "plt.ylabel(\"model prediction\")\n",
        "plt.xlabel(\"Truths\")\n"
      ],
      "metadata": {
        "colab": {
          "base_uri": "https://localhost:8080/",
          "height": 504
        },
        "id": "yCfwnPtYbZHX",
        "outputId": "9aad4d0c-785a-4d81-ac42-d259385b9097"
      },
      "execution_count": 46,
      "outputs": [
        {
          "output_type": "execute_result",
          "data": {
            "text/plain": [
              "Text(0.5, 0, 'Truths')"
            ]
          },
          "metadata": {},
          "execution_count": 46
        },
        {
          "output_type": "display_data",
          "data": {
            "text/plain": [
              "<Figure size 500x500 with 1 Axes>"
            ],
            "image/png": "[encoded data removed]"
          },
          "metadata": {}
        }
      ]
    },
    {
      "cell_type": "markdown",
      "source": [],
      "metadata": {
        "id": "1nLTeYsWdZBr"
      }
    },
    {
      "cell_type": "markdown",
      "source": [
        "Ejercicio 2"
      ],
      "metadata": {
        "id": "9xsjRMmlRGIC"
      }
    },
    {
      "cell_type": "code",
      "source": [
        "import pickle"
      ],
      "metadata": {
        "id": "8svNOm6IfM6Y"
      },
      "execution_count": 54,
      "outputs": []
    },
    {
      "cell_type": "code",
      "source": [
        "with open (\"modelo.pkl\", \"wb\") as file:\n",
        "  pickle.dump(model, file)\n"
      ],
      "metadata": {
        "id": "jqB5URWVg8Ro"
      },
      "execution_count": 55,
      "outputs": []
    },
    {
      "cell_type": "markdown",
      "source": [
        "carga del modelo desde el archivo plk"
      ],
      "metadata": {
        "id": "MeT7h1HRLDQz"
      }
    },
    {
      "cell_type": "code",
      "source": [
        "with open (\"modelo.pkl\", \"rb\") as file:\n",
        "  model =pickle.load(file)"
      ],
      "metadata": {
        "id": "mBElEUahhXSh"
      },
      "execution_count": 56,
      "outputs": []
    },
    {
      "cell_type": "markdown",
      "source": [
        "Ejercicio 3"
      ],
      "metadata": {
        "id": "mKNl2ZP2RKoJ"
      }
    },
    {
      "cell_type": "code",
      "source": [
        "from flask import Flask, request, jsonify\n",
        "import pickle\n",
        "\n",
        "# Cargo el modelo entrenado desde el archivo pkl\n",
        "with open('modelo.pkl', 'rb') as file:\n",
        "    model = pickle.load(file)\n",
        "\n",
        "# Incio la aplicación Flask\n",
        "app = Flask(__name__)\n",
        "\n",
        "# Definir la ruta y el método para realizar predicciones\n",
        "@app.route('/predict', methods=['POST'])\n",
        "def predict():\n",
        "    # Obtener los datos de la solicitud\n",
        "    data = request.json\n",
        "\n",
        "    # Realizar la predicción utilizando el modelo cargado\n",
        "    prediction = model.predict([data['features']])\n",
        "\n",
        "    # Devolver la predicción como respuesta en formato JSON\n",
        "    response = {'prediction': prediction.tolist()}\n",
        "    return jsonify(response)\n",
        "\n",
        "# Especificar la configuración para ejecutar la aplicación en todas las interfaces de red\n",
        "if __name__ == '__main__':\n",
        "    app.run()\n"
      ],
      "metadata": {
        "colab": {
          "base_uri": "https://localhost:8080/"
        },
        "id": "zAbFZZquLGyj",
        "outputId": "cf79b146-68cb-47dc-b712-f754ee871e29"
      },
      "execution_count": 65,
      "outputs": [
        {
          "output_type": "stream",
          "name": "stdout",
          "text": [
            " * Serving Flask app '__main__'\n",
            " * Debug mode: off\n"
          ]
        },
        {
          "output_type": "stream",
          "name": "stderr",
          "text": [
            "INFO:werkzeug:\u001b[31m\u001b[1mWARNING: This is a development server. Do not use it in a production deployment. Use a production WSGI server instead.\u001b[0m\n",
            " * Running on http://127.0.0.1:5000\n",
            "INFO:werkzeug:\u001b[33mPress CTRL+C to quit\u001b[0m\n"
          ]
        }
      ]
    },
    {
      "cell_type": "code",
      "source": [],
      "metadata": {
        "id": "io-ejv4MNvep"
      },
      "execution_count": null,
      "outputs": []
    },
    {
      "cell_type": "code",
      "source": [],
      "metadata": {
        "id": "TS1W2LFfYDiE"
      },
      "execution_count": null,
      "outputs": []
    },
    {
      "cell_type": "code",
      "source": [],
      "metadata": {
        "id": "Cq_KmrkUYDku"
      },
      "execution_count": null,
      "outputs": []
    },
    {
      "cell_type": "code",
      "source": [],
      "metadata": {
        "id": "oa7yrmVUYDnv"
      },
      "execution_count": null,
      "outputs": []
    },
    {
      "cell_type": "markdown",
      "source": [
        "Extra"
      ],
      "metadata": {
        "id": "XeLnQkP3YEGD"
      }
    },
    {
      "cell_type": "code",
      "source": [
        "!pip install --upgrade pip\n",
        "!pip install tox\n"
      ],
      "metadata": {
        "colab": {
          "base_uri": "https://localhost:8080/"
        },
        "id": "Tw9KyKauS57F",
        "outputId": "783db95f-ce57-4391-9384-3911d7b03137"
      },
      "execution_count": 63,
      "outputs": [
        {
          "output_type": "stream",
          "name": "stdout",
          "text": [
            "Looking in indexes: https://pypi.org/simple, https://us-python.pkg.dev/colab-wheels/public/simple/\n",
            "Requirement already satisfied: pip in /usr/local/lib/python3.10/dist-packages (23.1.2)\n",
            "Looking in indexes: https://pypi.org/simple, https://us-python.pkg.dev/colab-wheels/public/simple/\n",
            "Collecting tox\n",
            "  Downloading tox-4.6.2-py3-none-any.whl (151 kB)\n",
            "\u001b[2K     \u001b[90m━━━━━━━━━━━━━━━━━━━━━━━━━━━━━━━━━━━━━━━\u001b[0m \u001b[32m152.0/152.0 kB\u001b[0m \u001b[31m3.6 MB/s\u001b[0m eta \u001b[36m0:00:00\u001b[0m\n",
            "\u001b[?25hCollecting cachetools>=5.3.1 (from tox)\n",
            "  Downloading cachetools-5.3.1-py3-none-any.whl (9.3 kB)\n",
            "Collecting chardet>=5.1 (from tox)\n",
            "  Downloading chardet-5.1.0-py3-none-any.whl (199 kB)\n",
            "\u001b[2K     \u001b[90m━━━━━━━━━━━━━━━━━━━━━━━━━━━━━━━━━━━━━━━\u001b[0m \u001b[32m199.1/199.1 kB\u001b[0m \u001b[31m7.5 MB/s\u001b[0m eta \u001b[36m0:00:00\u001b[0m\n",
            "\u001b[?25hCollecting colorama>=0.4.6 (from tox)\n",
            "  Downloading colorama-0.4.6-py2.py3-none-any.whl (25 kB)\n",
            "Collecting filelock>=3.12.2 (from tox)\n",
            "  Downloading filelock-3.12.2-py3-none-any.whl (10 kB)\n",
            "Requirement already satisfied: packaging>=23.1 in /usr/local/lib/python3.10/dist-packages (from tox) (23.1)\n",
            "Collecting platformdirs>=3.5.3 (from tox)\n",
            "  Downloading platformdirs-3.6.0-py3-none-any.whl (16 kB)\n",
            "Requirement already satisfied: pluggy>=1 in /usr/local/lib/python3.10/dist-packages (from tox) (1.0.0)\n",
            "Collecting pyproject-api>=1.5.2 (from tox)\n",
            "  Downloading pyproject_api-1.5.2-py3-none-any.whl (12 kB)\n",
            "Requirement already satisfied: tomli>=2.0.1 in /usr/local/lib/python3.10/dist-packages (from tox) (2.0.1)\n",
            "Collecting virtualenv>=20.23.1 (from tox)\n",
            "  Downloading virtualenv-20.23.1-py3-none-any.whl (3.3 MB)\n",
            "\u001b[2K     \u001b[90m━━━━━━━━━━━━━━━━━━━━━━━━━━━━━━━━━━━━━━━━\u001b[0m \u001b[32m3.3/3.3 MB\u001b[0m \u001b[31m49.6 MB/s\u001b[0m eta \u001b[36m0:00:00\u001b[0m\n",
            "\u001b[?25hCollecting distlib<1,>=0.3.6 (from virtualenv>=20.23.1->tox)\n",
            "  Downloading distlib-0.3.6-py2.py3-none-any.whl (468 kB)\n",
            "\u001b[2K     \u001b[90m━━━━━━━━━━━━━━━━━━━━━━━━━━━━━━━━━━━━━━\u001b[0m \u001b[32m468.5/468.5 kB\u001b[0m \u001b[31m22.3 MB/s\u001b[0m eta \u001b[36m0:00:00\u001b[0m\n",
            "\u001b[?25hInstalling collected packages: distlib, pyproject-api, platformdirs, filelock, colorama, chardet, cachetools, virtualenv, tox\n",
            "  Attempting uninstall: platformdirs\n",
            "    Found existing installation: platformdirs 3.3.0\n",
            "    Uninstalling platformdirs-3.3.0:\n",
            "      Successfully uninstalled platformdirs-3.3.0\n",
            "  Attempting uninstall: filelock\n",
            "    Found existing installation: filelock 3.12.0\n",
            "    Uninstalling filelock-3.12.0:\n",
            "      Successfully uninstalled filelock-3.12.0\n",
            "  Attempting uninstall: chardet\n",
            "    Found existing installation: chardet 4.0.0\n",
            "    Uninstalling chardet-4.0.0:\n",
            "      Successfully uninstalled chardet-4.0.0\n",
            "  Attempting uninstall: cachetools\n",
            "    Found existing installation: cachetools 5.3.0\n",
            "    Uninstalling cachetools-5.3.0:\n",
            "      Successfully uninstalled cachetools-5.3.0\n",
            "Successfully installed cachetools-5.3.1 chardet-5.1.0 colorama-0.4.6 distlib-0.3.6 filelock-3.12.2 platformdirs-3.6.0 pyproject-api-1.5.2 tox-4.6.2 virtualenv-20.23.1\n"
          ]
        }
      ]
    },
    {
      "cell_type": "code",
      "source": [
        "!tox"
      ],
      "metadata": {
        "colab": {
          "base_uri": "https://localhost:8080/"
        },
        "id": "2FcyMrzrYNQB",
        "outputId": "2bab7136-59a4-4bd3-bc7d-61deee2ff082"
      },
      "execution_count": 67,
      "outputs": [
        {
          "output_type": "stream",
          "name": "stdout",
          "text": [
            "\u001b[1m\u001b[35mpy36:\u001b[0m\u001b[36m skipped because could not find python interpreter with spec(s): py36\u001b[0m\n",
            "\u001b[33mpy36: SKIP ⚠ in 0.03 seconds\u001b[39m\n",
            "\u001b[1m\u001b[35mpy37:\u001b[0m\u001b[36m skipped because could not find python interpreter with spec(s): py37\u001b[0m\n",
            "\u001b[33mpy37: SKIP ⚠ in 0.01 seconds\u001b[39m\n",
            "\u001b[1m\u001b[35m.pkg:\u001b[0m\u001b[36m _optional_hooks\u001b[22m\u001b[2m>\u001b[0m python /usr/local/lib/python3.10/dist-packages/pyproject_api/_backend.py True setuptools.build_meta __legacy__\u001b[0m\n",
            "\u001b[1m\u001b[35m.pkg:\u001b[0m\u001b[36m get_requires_for_build_sdist\u001b[22m\u001b[2m>\u001b[0m python /usr/local/lib/python3.10/dist-packages/pyproject_api/_backend.py True setuptools.build_meta __legacy__\u001b[0m\n",
            "\u001b[1m\u001b[35m.pkg:\u001b[0m\u001b[36m prepare_metadata_for_build_wheel\u001b[22m\u001b[2m>\u001b[0m python /usr/local/lib/python3.10/dist-packages/pyproject_api/_backend.py True setuptools.build_meta __legacy__\u001b[0m\n",
            "\u001b[1m\u001b[35m.pkg:\u001b[0m\u001b[36m build_sdist\u001b[22m\u001b[2m>\u001b[0m python /usr/local/lib/python3.10/dist-packages/pyproject_api/_backend.py True setuptools.build_meta __legacy__\u001b[0m\n",
            "\u001b[1m\u001b[35mpy38:\u001b[0m\u001b[36m install_package\u001b[22m\u001b[2m>\u001b[0m python -I -m pip install --force-reinstall --no-deps /content/.tox/.tmp/package/2/my_app-1.0.tar.gz\u001b[0m\n",
            "\u001b[1m\u001b[35mpy38:\u001b[0m\u001b[36m commands[0]\u001b[22m\u001b[2m>\u001b[0m pytest\u001b[0m\n",
            "\u001b[1m============================= test session starts ==============================\u001b[0m\n",
            "platform linux -- Python 3.8.10, pytest-7.3.2, pluggy-1.0.0\n",
            "cachedir: .tox/py38/.pytest_cache\n",
            "rootdir: /content\n",
            "collected 2 items                                                              \u001b[0m\n",
            "\n",
            "test_exaple.py \u001b[32m.\u001b[0m\u001b[32m                                                         [ 50%]\u001b[0m\n",
            "tests/test_app.py \u001b[32m.\u001b[0m\u001b[32m                                                      [100%]\u001b[0m\n",
            "\n",
            "\u001b[32m============================== \u001b[32m\u001b[1m2 passed\u001b[0m\u001b[32m in 0.02s\u001b[0m\u001b[32m ===============================\u001b[0m\n",
            "\u001b[1m\u001b[35m.pkg:\u001b[0m\u001b[36m _exit\u001b[22m\u001b[2m>\u001b[0m python /usr/local/lib/python3.10/dist-packages/pyproject_api/_backend.py True setuptools.build_meta __legacy__\u001b[0m\n",
            "\u001b[33m  py36: SKIP (0.03 seconds)\u001b[39m\n",
            "\u001b[33m  py37: SKIP (0.00 seconds)\u001b[39m\n",
            "\u001b[32m  py38: OK (2.04=setup[1.68]+cmd[0.36] seconds)\u001b[39m\n",
            "\u001b[32m  congratulations :) (2.16 seconds)\u001b[39m\n",
            "\u001b[0m"
          ]
        }
      ]
    },
    {
      "cell_type": "code",
      "source": [],
      "metadata": {
        "id": "3vw3UixfYby7"
      },
      "execution_count": null,
      "outputs": []
    }
  ]
}